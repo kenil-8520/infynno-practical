{
 "cells": [
  {
   "cell_type": "code",
   "execution_count": 197,
   "id": "4050c126",
   "metadata": {},
   "outputs": [
    {
     "name": "stdout",
     "output_type": "stream",
     "text": [
      "\n",
      "  \n",
      "    \n",
      "    \n",
      "    \n",
      "    HTML 5 Boilerplate\n",
      "    \n",
      "  \n",
      "  \n",
      "\t\n",
      "    this is body\n",
      "  \n",
      "\n",
      "\n"
     ]
    }
   ],
   "source": [
    "import re\n",
    "data = \"\"\"\\\n",
    "<html lang=\"en\">\n",
    "  <head>\n",
    "    <meta charset=\"UTF-8\">\n",
    "    <meta name=\"viewport\" content=\"width=device-width, initial-scale=1.0\">\n",
    "    <meta http-equiv=\"X-UA-Compatible\" content=\"ie=edge\">\n",
    "    <title>HTML 5 Boilerplate</title>\n",
    "    <link rel=\"stylesheet\" href=\"style.css\">\n",
    "  </head>\n",
    "  <body>\n",
    "\t<script src=\"index.js\"></script>\n",
    "    this is body\n",
    "  </body>\n",
    "</html>\n",
    "\"\"\"\n",
    "check = re.compile(r'<[^>]+>').sub(\"\",data)\n",
    "# a = \"\\n\".join(check.split())\n",
    "print(check)"
   ]
  },
  {
   "cell_type": "code",
   "execution_count": null,
   "id": "2ea5d8f7",
   "metadata": {},
   "outputs": [],
   "source": [
    "r'<[^>]+>'"
   ]
  },
  {
   "cell_type": "code",
   "execution_count": 59,
   "id": "febe0ab8",
   "metadata": {},
   "outputs": [
    {
     "name": "stdout",
     "output_type": "stream",
     "text": [
      "valid\n"
     ]
    }
   ],
   "source": [
    "import re\n",
    "z = \"hello\"\n",
    "x = re.match(\"^hello|Hello\",z)\n",
    "if x:\n",
    "    print(\"valid\")\n",
    "else:\n",
    "    print(\"invalid\") \n"
   ]
  },
  {
   "cell_type": "code",
   "execution_count": 60,
   "id": "36669308",
   "metadata": {},
   "outputs": [
    {
     "name": "stdout",
     "output_type": "stream",
     "text": [
      "valid\n"
     ]
    }
   ],
   "source": [
    "import re\n",
    "z = \"hellokeyreyur hello\"\n",
    "x = re.match(\".* hello\",z)\n",
    "if x:\n",
    "    print(\"valid\")\n",
    "else:\n",
    "    print(\"invalid\") \n"
   ]
  },
  {
   "cell_type": "code",
   "execution_count": 61,
   "id": "92f16161",
   "metadata": {},
   "outputs": [
    {
     "name": "stdout",
     "output_type": "stream",
     "text": [
      "valid\n"
     ]
    }
   ],
   "source": [
    "import re\n",
    "z = \"hello\"\n",
    "x = re.match(\"hello\",z)\n",
    "if x:\n",
    "    print(\"valid\")\n",
    "else:\n",
    "    print(\"invalid\") "
   ]
  },
  {
   "cell_type": "code",
   "execution_count": 187,
   "id": "7e0f4b7f",
   "metadata": {},
   "outputs": [
    {
     "name": "stdout",
     "output_type": "stream",
     "text": [
      "<html lang=\"en\">\n",
      "  <head>\n",
      "    <meta charset=\"UTF-8\">\n",
      "    <meta name=\"viewport\" content=\"width=device-width, initial-scale=1.0\">\n",
      "    <meta http-equiv=\"X-UA-Compatible\" content=\"ie=edge\">\n",
      "    <title>HTML 5 Boilerplate</title>\n",
      "    <link rel=\"stylesheet\" href=\"style.css\">\n",
      "  </head>\n",
      "  <body>\n",
      "\t\n",
      "  </body>\n",
      "</html>\n",
      "\n"
     ]
    }
   ],
   "source": [
    "import re\n",
    "data = \"\"\"\\\n",
    "<html lang=\"en\">\n",
    "  <head>\n",
    "    <meta charset=\"UTF-8\">\n",
    "    <meta name=\"viewport\" content=\"width=device-width, initial-scale=1.0\">\n",
    "    <meta http-equiv=\"X-UA-Compatible\" content=\"ie=edge\">\n",
    "    <title>HTML 5 Boilerplate</title>\n",
    "    <link rel=\"stylesheet\" href=\"style.css\">\n",
    "  </head>\n",
    "  <body>\n",
    "\t<script src=\"index.js\"></script>\n",
    "  </body>\n",
    "</html>\n",
    "\"\"\"\n",
    "a = re.subn(r'<(script).*?</\\1>(?s)', '', data)[0]\n",
    "x = \"\\n\".join(a.split())\n",
    "print(a)"
   ]
  },
  {
   "cell_type": "code",
   "execution_count": 191,
   "id": "0712a4b6",
   "metadata": {
    "scrolled": true
   },
   "outputs": [
    {
     "name": "stdout",
     "output_type": "stream",
     "text": [
      "<!DOCTYPE html> <html> <body> <h1>My first PHP page</h1> </body> </html>\n"
     ]
    }
   ],
   "source": [
    "import re\n",
    "string = \"\"\"\\\n",
    "<!DOCTYPE html>\n",
    "<html>\n",
    "<body>\n",
    "\n",
    "<h1>My first PHP page</h1>\n",
    "\n",
    "<?php\n",
    "echo \"Hello World!\";\n",
    "?>\n",
    "\n",
    "</body>\n",
    "</html>\n",
    "\"\"\"\n",
    "check = re.compile('(?s)<\\?php.*\\?>').sub(\"\",string)\n",
    "a = \" \".join(check.split())\n",
    "print(a)"
   ]
  },
  {
   "cell_type": "code",
   "execution_count": 71,
   "id": "ceea56bb",
   "metadata": {},
   "outputs": [
    {
     "name": "stdout",
     "output_type": "stream",
     "text": [
      "['I', 'i', 'I']\n",
      "length =  3\n"
     ]
    }
   ],
   "source": [
    "import re\n",
    "string = ' I like coffee but I always date to tea.'\n",
    "check = re.findall('I|i',string)\n",
    "print(check)\n",
    "print(\"length = \",len(check))"
   ]
  },
  {
   "cell_type": "code",
   "execution_count": 155,
   "id": "27c35d72",
   "metadata": {},
   "outputs": [
    {
     "name": "stdout",
     "output_type": "stream",
     "text": [
      "<re.Match object; span=(0, 12), match='898-898-8988'>\n"
     ]
    }
   ],
   "source": [
    "import re\n",
    "string = \"898-898-8988\"\n",
    "check = re.match('[0-9]{3}\\-[0-9]{3}\\-[0-9]{4}',string)\n",
    "print(check)"
   ]
  },
  {
   "cell_type": "code",
   "execution_count": null,
   "id": "e0173e00",
   "metadata": {},
   "outputs": [],
   "source": []
  },
  {
   "cell_type": "code",
   "execution_count": null,
   "id": "5ad7fdc5",
   "metadata": {},
   "outputs": [],
   "source": []
  },
  {
   "cell_type": "code",
   "execution_count": 281,
   "id": "2fc6aa65",
   "metadata": {},
   "outputs": [],
   "source": [
    "import mechanicalsoup\n",
    "browser = mechanicalsoup.Browser()\n",
    "url = \"http://olympus.realpython.org/login\"\n",
    "page = browser.get(url)"
   ]
  },
  {
   "cell_type": "code",
   "execution_count": 282,
   "id": "97b7738b",
   "metadata": {},
   "outputs": [
    {
     "data": {
      "text/plain": [
       "requests.models.Response"
      ]
     },
     "execution_count": 282,
     "metadata": {},
     "output_type": "execute_result"
    }
   ],
   "source": [
    "type(page)"
   ]
  },
  {
   "cell_type": "code",
   "execution_count": 283,
   "id": "e218c1c1",
   "metadata": {},
   "outputs": [
    {
     "data": {
      "text/plain": [
       "<html>\n",
       "<head>\n",
       "<title>Log In</title>\n",
       "</head>\n",
       "<body bgcolor=\"yellow\">\n",
       "<center>\n",
       "<br/><br/>\n",
       "<h2>Please log in to access Mount Olympus:</h2>\n",
       "<br/><br/>\n",
       "<form action=\"/login\" method=\"post\" name=\"login\">\n",
       "Username: <input name=\"user\" type=\"text\"/><br/>\n",
       "Password: <input name=\"pwd\" type=\"password\"/><br/><br/>\n",
       "<input type=\"submit\" value=\"Submit\"/>\n",
       "</form>\n",
       "</center>\n",
       "</body>\n",
       "</html>"
      ]
     },
     "execution_count": 283,
     "metadata": {},
     "output_type": "execute_result"
    }
   ],
   "source": [
    "page.soup"
   ]
  },
  {
   "cell_type": "code",
   "execution_count": 273,
   "id": "74f4d356",
   "metadata": {},
   "outputs": [
    {
     "name": "stdout",
     "output_type": "stream",
     "text": [
      "<class 'bs4.BeautifulSoup'>\n"
     ]
    }
   ],
   "source": [
    "print(type(page.soup))"
   ]
  },
  {
   "cell_type": "code",
   "execution_count": 286,
   "id": "51900c9d",
   "metadata": {},
   "outputs": [],
   "source": [
    "import mechanicalsoup\n",
    "\n",
    "browser = mechanicalsoup.Browser()\n",
    "url = \"http://olympus.realpython.org/login\"\n",
    "login_page = browser.get(url)\n",
    "login_html = login_page.soup\n",
    "\n",
    "form = login_html.select(\"form\")[0]\n",
    "form.select(\"input\")[0][\"value\"] = \"zeus\"\n",
    "form.select(\"input\")[1][\"value\"] = \"ThunderDude\"\n",
    "\n",
    "profiles_page = browser.submit(form, login_page.url)"
   ]
  },
  {
   "cell_type": "code",
   "execution_count": 292,
   "id": "e6c8ad4f",
   "metadata": {},
   "outputs": [
    {
     "data": {
      "text/plain": [
       "str"
      ]
     },
     "execution_count": 292,
     "metadata": {},
     "output_type": "execute_result"
    }
   ],
   "source": [
    "type(profiles_page.url)"
   ]
  },
  {
   "cell_type": "code",
   "execution_count": 293,
   "id": "ebca8e79",
   "metadata": {},
   "outputs": [
    {
     "data": {
      "text/plain": [
       "'http://olympus.realpython.org/profiles'"
      ]
     },
     "execution_count": 293,
     "metadata": {},
     "output_type": "execute_result"
    }
   ],
   "source": [
    "profiles_page.url"
   ]
  },
  {
   "cell_type": "code",
   "execution_count": 184,
   "id": "cac181c7",
   "metadata": {},
   "outputs": [],
   "source": [
    "links = profiles_page.soup.select(\"a\")"
   ]
  },
  {
   "cell_type": "code",
   "execution_count": 291,
   "id": "87fa8d16",
   "metadata": {},
   "outputs": [
    {
     "name": "stdout",
     "output_type": "stream",
     "text": [
      "Aphrodite : /profiles/aphrodite\n",
      "Poseidon : /profiles/poseidon\n",
      "Dionysus : /profiles/dionysus\n"
     ]
    }
   ],
   "source": [
    "for i in links:\n",
    "    txt = i.text\n",
    "    href = i[\"href\"]\n",
    "    print (f\"{txt} : {href}\")"
   ]
  },
  {
   "cell_type": "code",
   "execution_count": 269,
   "id": "55c3a6a3",
   "metadata": {},
   "outputs": [
    {
     "name": "stdout",
     "output_type": "stream",
     "text": [
      "The result of your dice roll is: 2\n"
     ]
    }
   ],
   "source": [
    "import mechanicalsoup\n",
    "\n",
    "browser = mechanicalsoup.Browser()\n",
    "page = browser.get(\"http://olympus.realpython.org/dice\")\n",
    "tag = page.soup.select(\"#result\")[0]\n",
    "result = tag.text\n",
    "\n",
    "print(f\"The result of your dice roll is: {result}\")"
   ]
  },
  {
   "cell_type": "code",
   "execution_count": null,
   "id": "78c6eb25",
   "metadata": {},
   "outputs": [],
   "source": []
  },
  {
   "cell_type": "code",
   "execution_count": 45,
   "id": "5804397b",
   "metadata": {},
   "outputs": [
    {
     "name": "stdout",
     "output_type": "stream",
     "text": [
      "valid\n"
     ]
    }
   ],
   "source": [
    "import re\n",
    "string = \"122.12.244.72\"\n",
    "check = re.match('[0-9]{3}.[0-9]{2}.[0-9]{3}.[0-9]{2}$',string)\n",
    "if check:\n",
    "    print(\"valid\")\n",
    "else:\n",
    "    print(\"invalid\")"
   ]
  },
  {
   "cell_type": "code",
   "execution_count": null,
   "id": "6ef2f41c",
   "metadata": {},
   "outputs": [],
   "source": []
  }
 ],
 "metadata": {
  "kernelspec": {
   "display_name": "Python 3 (ipykernel)",
   "language": "python",
   "name": "python3"
  },
  "language_info": {
   "codemirror_mode": {
    "name": "ipython",
    "version": 3
   },
   "file_extension": ".py",
   "mimetype": "text/x-python",
   "name": "python",
   "nbconvert_exporter": "python",
   "pygments_lexer": "ipython3",
   "version": "3.8.10"
  }
 },
 "nbformat": 4,
 "nbformat_minor": 5
}
