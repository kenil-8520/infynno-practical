{
 "cells": [
  {
   "cell_type": "code",
   "execution_count": 97,
   "id": "4050c126",
   "metadata": {},
   "outputs": [
    {
     "name": "stdout",
     "output_type": "stream",
     "text": [
      "enter a html<html lang=\"en\">   <head>     <meta charset=\"UTF-8\">     <meta name=\"viewport\" content=\"width=device-width, initial-scale=1.0\">     <meta http-equiv=\"X-UA-Compatible\" content=\"ie=edge\">     <title>HTML 5 Boilerplate</title>     <link rel=\"stylesheet\" href=\"style.css\">   </head>   <body> \t<script src=\"index.js\"></script>   </body> </html>\n"
     ]
    },
    {
     "data": {
      "text/plain": [
       "'                       HTML 5 Boilerplate            \\t    '"
      ]
     },
     "execution_count": 97,
     "metadata": {},
     "output_type": "execute_result"
    }
   ],
   "source": [
    "import re\n",
    "r = \"\"\"\"\"\"\n",
    "r = re.compile(r'<[^>]+>')\n",
    "\n",
    "def tag(text):\n",
    "    return r.sub('', s)\n",
    "\n",
    "s = input(\"enter a html\")\n",
    "tag(s)\n",
    "\n",
    "# <html lang=\"en\">\n",
    "#   <head>\n",
    "#     <meta charset=\"UTF-8\">\n",
    "#     <meta name=\"viewport\" content=\"width=device-width, initial-scale=1.0\">\n",
    "#     <meta http-equiv=\"X-UA-Compatible\" content=\"ie=edge\">\n",
    "#     <title>HTML 5 Boilerplate</title>\n",
    "#     <link rel=\"stylesheet\" href=\"style.css\">\n",
    "#   </head>\n",
    "#   <body>\n",
    "# \t<script src=\"index.js\"></script>\n",
    "#   </body>\n",
    "# </html>"
   ]
  },
  {
   "cell_type": "code",
   "execution_count": null,
   "id": "2ea5d8f7",
   "metadata": {},
   "outputs": [],
   "source": [
    "r'<[^>]+>'"
   ]
  },
  {
   "cell_type": "code",
   "execution_count": 59,
   "id": "febe0ab8",
   "metadata": {},
   "outputs": [
    {
     "name": "stdout",
     "output_type": "stream",
     "text": [
      "valid\n"
     ]
    }
   ],
   "source": [
    "import re\n",
    "z = \"hello\"\n",
    "x = re.match(\"^hello|Hello\",z)\n",
    "if x:\n",
    "    print(\"valid\")\n",
    "else:\n",
    "    print(\"invalid\") \n"
   ]
  },
  {
   "cell_type": "code",
   "execution_count": 60,
   "id": "36669308",
   "metadata": {},
   "outputs": [
    {
     "name": "stdout",
     "output_type": "stream",
     "text": [
      "valid\n"
     ]
    }
   ],
   "source": [
    "import re\n",
    "z = \"hellokeyreyur hello\"\n",
    "x = re.match(\".* hello\",z)\n",
    "if x:\n",
    "    print(\"valid\")\n",
    "else:\n",
    "    print(\"invalid\") \n"
   ]
  },
  {
   "cell_type": "code",
   "execution_count": 61,
   "id": "92f16161",
   "metadata": {},
   "outputs": [
    {
     "name": "stdout",
     "output_type": "stream",
     "text": [
      "valid\n"
     ]
    }
   ],
   "source": [
    "import re\n",
    "z = \"hello\"\n",
    "x = re.match(\"hello\",z)\n",
    "if x:\n",
    "    print(\"valid\")\n",
    "else:\n",
    "    print(\"invalid\") "
   ]
  },
  {
   "cell_type": "code",
   "execution_count": 84,
   "id": "7e0f4b7f",
   "metadata": {},
   "outputs": [
    {
     "name": "stdout",
     "output_type": "stream",
     "text": [
      "<html lang=\"en\">\n",
      "  <head>\n",
      "    <meta charset=\"UTF-8\">\n",
      "    <meta name=\"viewport\" content=\"width=device-width, initial-scale=1.0\">\n",
      "    <meta http-equiv=\"X-UA-Compatible\" content=\"ie=edge\">\n",
      "    <title>HTML 5 Boilerplate</title>\n",
      "    <link rel=\"stylesheet\" href=\"style.css\">\n",
      "  </head>\n",
      "  <body>hello\n",
      "\t\n",
      "  </body>\n",
      "</html>\n",
      "\n"
     ]
    }
   ],
   "source": [
    "import re\n",
    "data = \"\"\"\\\n",
    "<html lang=\"en\">\n",
    "  <head>\n",
    "    <meta charset=\"UTF-8\">\n",
    "    <meta name=\"viewport\" content=\"width=device-width, initial-scale=1.0\">\n",
    "    <meta http-equiv=\"X-UA-Compatible\" content=\"ie=edge\">\n",
    "    <title>HTML 5 Boilerplate</title>\n",
    "    <link rel=\"stylesheet\" href=\"style.css\">\n",
    "  </head>\n",
    "  <body>hello\n",
    "\t<script src=\"index.js\"></script>\n",
    "  </body>\n",
    "</html>\n",
    "\"\"\"\n",
    "print(re.subn(r'<(script).*?</\\1>(?s)', '', data)[0])"
   ]
  },
  {
   "cell_type": "code",
   "execution_count": 1,
   "id": "0712a4b6",
   "metadata": {},
   "outputs": [
    {
     "name": "stdout",
     "output_type": "stream",
     "text": [
      "<!DOCTYPE html>\n",
      "<html>\n",
      "<body>\n",
      "\n",
      "<h1>My first PHP page</h1>\n",
      "\n",
      " \n",
      "\n",
      "</body>\n",
      "</html>\n",
      "\n",
      "\n"
     ]
    }
   ],
   "source": [
    "import re\n",
    "string = \"\"\"\\\n",
    "<!DOCTYPE html>\n",
    "<html>\n",
    "<body>\n",
    "\n",
    "<h1>My first PHP page</h1>\n",
    "\n",
    "<?php\n",
    "echo \"Hello World!\";\n",
    "?> \n",
    "\n",
    "</body>\n",
    "</html>\n",
    "\n",
    "\"\"\"\n",
    "check = re.compile('(?s)<\\?php.*\\?>').sub('', string)\n",
    "print(check)"
   ]
  },
  {
   "cell_type": "code",
   "execution_count": 73,
   "id": "27c35d72",
   "metadata": {},
   "outputs": [
    {
     "name": "stdout",
     "output_type": "stream",
     "text": [
      "<re.Match object; span=(0, 12), match='898-898-8988'>\n"
     ]
    }
   ],
   "source": [
    "import re\n",
    "string = \"898-898-8988\"\n",
    "check = re.match('[0-9]{3}\\-[0-9]{3}\\-[0-9]{4}',string)\n",
    "print(check)"
   ]
  },
  {
   "cell_type": "code",
   "execution_count": null,
   "id": "e0173e00",
   "metadata": {},
   "outputs": [],
   "source": []
  }
 ],
 "metadata": {
  "kernelspec": {
   "display_name": "Python 3 (ipykernel)",
   "language": "python",
   "name": "python3"
  },
  "language_info": {
   "codemirror_mode": {
    "name": "ipython",
    "version": 3
   },
   "file_extension": ".py",
   "mimetype": "text/x-python",
   "name": "python",
   "nbconvert_exporter": "python",
   "pygments_lexer": "ipython3",
   "version": "3.8.10"
  }
 },
 "nbformat": 4,
 "nbformat_minor": 5
}
