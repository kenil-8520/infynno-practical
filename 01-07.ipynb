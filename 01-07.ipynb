{
 "cells": [
  {
   "cell_type": "code",
   "execution_count": 199,
   "id": "cd34a406",
   "metadata": {},
   "outputs": [
    {
     "name": "stdout",
     "output_type": "stream",
     "text": [
      "enter a number a\n",
      "Binary = 1100001\n",
      "number of maximum 0 = 4\n"
     ]
    }
   ],
   "source": [
    "n = input(\"enter a number \")\n",
    "if n.isdigit():\n",
    "    c= bin(int(n))[2:]\n",
    "    print(f\"Binary = {c}\")\n",
    "    x = c.split(\"1\")\n",
    "    m = max(x)\n",
    "    print(f\"number of maximum 0 = {len(m)}\")\n",
    "else:\n",
    "    s = ' '.join(format(ord(x), 'b') for x in n)\n",
    "    print(f\"Binary = {s}\")\n",
    "    k = s.split(\"1\")\n",
    "    ma = max(k)\n",
    "    print(f\"number of maximum 0 = {len(k)}\")"
   ]
  },
  {
   "cell_type": "code",
   "execution_count": null,
   "id": "01e48d02",
   "metadata": {},
   "outputs": [],
   "source": []
  }
 ],
 "metadata": {
  "kernelspec": {
   "display_name": "Python 3 (ipykernel)",
   "language": "python",
   "name": "python3"
  },
  "language_info": {
   "codemirror_mode": {
    "name": "ipython",
    "version": 3
   },
   "file_extension": ".py",
   "mimetype": "text/x-python",
   "name": "python",
   "nbconvert_exporter": "python",
   "pygments_lexer": "ipython3",
   "version": "3.8.10"
  }
 },
 "nbformat": 4,
 "nbformat_minor": 5
}
