{
 "cells": [
  {
   "cell_type": "code",
   "execution_count": 215,
   "id": "cd34a406",
   "metadata": {},
   "outputs": [
    {
     "name": "stdout",
     "output_type": "stream",
     "text": [
      "enter a number a\n",
      "Binary = 1100001\n",
      "number of maximum 0 = 4\n"
     ]
    }
   ],
   "source": [
    "n = input(\"enter a number \")\n",
    "if n.isdigit():\n",
    "    c= bin(int(n))[2:]\n",
    "    print(f\"Binary = {c}\")\n",
    "    x = c.split(\"1\")\n",
    "    m = max(x)\n",
    "    print(f\"number of maximum 0 = {len(m)}\")\n",
    "else:\n",
    "    s = ' '.join(format(ord(x), 'b') for x in n)\n",
    "    print(f\"Binary = {s}\")\n",
    "    k = s.split(\"1\")\n",
    "    m = max(k)\n",
    "    print(f\"number of maximum 0 = {len(m)}\")"
   ]
  },
  {
   "cell_type": "code",
   "execution_count": null,
   "id": "897371d9",
   "metadata": {},
   "outputs": [],
   "source": []
  },
  {
   "cell_type": "code",
   "execution_count": null,
   "id": "049b4ae1",
   "metadata": {},
   "outputs": [],
   "source": []
  },
  {
   "cell_type": "code",
   "execution_count": 247,
   "id": "2ed7c0d1",
   "metadata": {},
   "outputs": [
    {
     "name": "stdout",
     "output_type": "stream",
     "text": [
      "58.2\n"
     ]
    }
   ],
   "source": [
    "n = 60\n",
    "jump = 5\n",
    "down = 3\n",
    "\n",
    "\n",
    "c = n - down / (jump/down)\n",
    "# 50 - 4 / (5-4)\n",
    "print(c)\n",
    "# for i in range(n):\n",
    "#     jump+=5\n",
    "#     down-=4\n",
    "\n",
    "#     l = \n",
    "#     print(l)\n",
    "# jump+=5\n",
    "# down "
   ]
  },
  {
   "cell_type": "code",
   "execution_count": null,
   "id": "2e9226ed",
   "metadata": {},
   "outputs": [],
   "source": []
  },
  {
   "cell_type": "code",
   "execution_count": 258,
   "id": "ab1c7501",
   "metadata": {},
   "outputs": [
    {
     "name": "stdout",
     "output_type": "stream",
     "text": [
      "[0, 1, 5, 6, 9]\n"
     ]
    }
   ],
   "source": [
    "n=[1,5,6,9,0]\n",
    "for i in range(len(n)):\n",
    "    for j in range(i+1,len(n)):\n",
    "        if n[i]>n[j]:\n",
    "            n[i],n[j]=n[j],n[i]\n",
    "print(n)"
   ]
  },
  {
   "cell_type": "code",
   "execution_count": null,
   "id": "4d9e0d93",
   "metadata": {},
   "outputs": [],
   "source": []
  },
  {
   "cell_type": "code",
   "execution_count": 28,
   "id": "1138ff4b",
   "metadata": {},
   "outputs": [],
   "source": [
    "import json\n",
    "\n",
    "a = {\n",
    "    \"C\": 1.1,\n",
    "    \"O\": True,\n",
    "    \"M\": \"HelloWorld\",\n",
    "    \"P\": {\n",
    "        \"X\": 1,\n",
    "        \"Y\": 2,\n",
    "        \"Z\": 3\n",
    "    },\n",
    "    \"U\": 25,\n",
    "    \"T\": None,\n",
    "    \"E\": [\"Python\", \"Is\", \"Beautiful\"],\n",
    "    \"R\": [1, 2, 100, 200]\n",
    "}\n",
    "def prev():\n",
    "    targets = [\"C\", \"O\", \"M\", \"P\"]\n",
    "    result = {key: a[key] for key in a.keys() if key in targets}\n",
    "    print(json.dumps(result, indent = 4))\n",
    "\n",
    "def nex():\n",
    "    targets = [\"U\", \"T\", \"E\", \"R\"]\n",
    "    result = {key: a[key] for key in a.keys() if key in targets}\n",
    "    print(json.dumps(result, indent = 4))"
   ]
  },
  {
   "cell_type": "code",
   "execution_count": 29,
   "id": "4681a9dc",
   "metadata": {},
   "outputs": [
    {
     "name": "stdout",
     "output_type": "stream",
     "text": [
      "enter P OR N = p\n",
      "{\n",
      "    \"C\": 1.1,\n",
      "    \"O\": true,\n",
      "    \"M\": \"HelloWorld\",\n",
      "    \"P\": {\n",
      "        \"X\": 1,\n",
      "        \"Y\": 2,\n",
      "        \"Z\": 3\n",
      "    }\n",
      "}\n"
     ]
    }
   ],
   "source": [
    "n = input(\"enter P OR N = \")\n",
    "if n == \"P\" or n == \"p\":\n",
    "#     print(json.dumps(result, indent = 4))\n",
    "    prev()\n",
    "elif n == \"N\" or n == \"n\":\n",
    "    nex()"
   ]
  },
  {
   "cell_type": "code",
   "execution_count": 46,
   "id": "03dae41f",
   "metadata": {},
   "outputs": [],
   "source": [
    "import json"
   ]
  },
  {
   "cell_type": "code",
   "execution_count": null,
   "id": "d6a127dc",
   "metadata": {},
   "outputs": [],
   "source": []
  },
  {
   "cell_type": "code",
   "execution_count": 69,
   "id": "998eb510",
   "metadata": {},
   "outputs": [
    {
     "name": "stdout",
     "output_type": "stream",
     "text": [
      "{'name': 'Tiger', 'age': '', 'DOB': '01/04/2002'}\n",
      "{'name': ' john', 'age': '', 'DOB': '01/04/2002'}\n",
      "{'name': ' snow', 'age': '', 'DOB': '01/04/2002'}\n",
      "{'name': ' eddie', 'age': '', 'DOB': '01/04/2002'}\n"
     ]
    }
   ],
   "source": [
    "f = open('data.json')\n",
    "data = json.loads(f.read())\n",
    "\n",
    "\n",
    "for i in data[\"data\"][0:4]:\n",
    "    print(i)\n",
    "\n",
    "\n",
    "# print(data[\"data\"][0:4])"
   ]
  },
  {
   "cell_type": "code",
   "execution_count": null,
   "id": "e1c73e91",
   "metadata": {},
   "outputs": [],
   "source": []
  },
  {
   "cell_type": "code",
   "execution_count": null,
   "id": "fbbead50",
   "metadata": {},
   "outputs": [],
   "source": []
  },
  {
   "cell_type": "code",
   "execution_count": 4,
   "id": "efa2e33e",
   "metadata": {},
   "outputs": [],
   "source": [
    "from datetime import datetime, date\n",
    "\n",
    "# born='26/01/2000'\n",
    "def age(born):\n",
    "    born = datetime.strptime(born, \"%d/%m/%Y\").date()\n",
    "    today = date.today()\n",
    "    a = today.year - born.year - ((today.month, today.day) < (born.month,born.day))\n",
    "    return a"
   ]
  },
  {
   "cell_type": "code",
   "execution_count": 5,
   "id": "f6ff028f",
   "metadata": {},
   "outputs": [
    {
     "data": {
      "text/plain": [
       "22"
      ]
     },
     "execution_count": 5,
     "metadata": {},
     "output_type": "execute_result"
    }
   ],
   "source": [
    "age(\"26/01/2000\")"
   ]
  },
  {
   "cell_type": "code",
   "execution_count": null,
   "id": "c63ae722",
   "metadata": {},
   "outputs": [],
   "source": []
  }
 ],
 "metadata": {
  "kernelspec": {
   "display_name": "Python 3 (ipykernel)",
   "language": "python",
   "name": "python3"
  },
  "language_info": {
   "codemirror_mode": {
    "name": "ipython",
    "version": 3
   },
   "file_extension": ".py",
   "mimetype": "text/x-python",
   "name": "python",
   "nbconvert_exporter": "python",
   "pygments_lexer": "ipython3",
   "version": "3.8.10"
  }
 },
 "nbformat": 4,
 "nbformat_minor": 5
}
