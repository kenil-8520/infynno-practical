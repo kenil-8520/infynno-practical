{
 "cells": [
  {
   "cell_type": "code",
   "execution_count": null,
   "id": "aae6386b",
   "metadata": {},
   "outputs": [],
   "source": [
    "n = 12\n",
    "r = 4\n",
    "t=1\n",
    "no=1"
   ]
  },
  {
   "cell_type": "code",
   "execution_count": null,
   "id": "29e82c56",
   "metadata": {},
   "outputs": [],
   "source": [
    "# for i in range(r):\n",
    "#     i+=1\n",
    "#     t *=1\n",
    "# x = n-r + 1\n",
    "# while t != (n-2*r+1):\n",
    "#     no *= t\n",
    "#     x -=1 \n",
    "# print(int(no//x))\n"
   ]
  },
  {
   "cell_type": "code",
   "execution_count": 10,
   "id": "c6b28f78",
   "metadata": {},
   "outputs": [],
   "source": [
    "import math \n",
    "n = 12\n",
    "r = 4\n",
    "t = (n-r) + 1\n",
    "fact_t = math.factorial(t)\n",
    "fact_r = math.factorial(r)\n",
    "fact_o = math.factorial(t-r)"
   ]
  },
  {
   "cell_type": "code",
   "execution_count": 11,
   "id": "f2336a8a",
   "metadata": {},
   "outputs": [
    {
     "data": {
      "text/plain": [
       "126"
      ]
     },
     "execution_count": 11,
     "metadata": {},
     "output_type": "execute_result"
    }
   ],
   "source": [
    "fact_t//(fact_r*fact_o)"
   ]
  },
  {
   "cell_type": "code",
   "execution_count": 1,
   "id": "84a300c0",
   "metadata": {
    "scrolled": true
   },
   "outputs": [
    {
     "name": "stdout",
     "output_type": "stream",
     "text": [
      "   |   |   \n",
      "___|___|___\n",
      "   |   |   \n",
      "___|___|___\n",
      "   |   |   \n",
      "   |   |   \n",
      "Player X's chance\n",
      "Enter the position between  1 - 9 : 1\n",
      " X |   |   \n",
      "___|___|___\n",
      "   |   |   \n",
      "___|___|___\n",
      "   |   |   \n",
      "   |   |   \n",
      "Player O's chance\n",
      "Enter the position between  1 - 9 : 2\n",
      " X | O |   \n",
      "___|___|___\n",
      "   |   |   \n",
      "___|___|___\n",
      "   |   |   \n",
      "   |   |   \n",
      "Player X's chance\n",
      "Enter the position between  1 - 9 : 3\n",
      " X | O | X \n",
      "___|___|___\n",
      "   |   |   \n",
      "___|___|___\n",
      "   |   |   \n",
      "   |   |   \n",
      "Player O's chance\n",
      "Enter the position between  1 - 9 : 4\n",
      " X | O | X \n",
      "___|___|___\n",
      " O |   |   \n",
      "___|___|___\n",
      "   |   |   \n",
      "   |   |   \n",
      "Player X's chance\n",
      "Enter the position between  1 - 9 : 5\n",
      " X | O | X \n",
      "___|___|___\n",
      " O | X |   \n",
      "___|___|___\n",
      "   |   |   \n",
      "   |   |   \n",
      "Player O's chance\n",
      "Enter the position between  1 - 9 : 6\n",
      " X | O | X \n",
      "___|___|___\n",
      " O | X | O \n",
      "___|___|___\n",
      "   |   |   \n",
      "   |   |   \n",
      "Player X's chance\n",
      "Enter the position between  1 - 9 : 7\n",
      " X | O | X \n",
      "___|___|___\n",
      " O | X | O \n",
      "___|___|___\n",
      " X |   |   \n",
      "   |   |   \n",
      "Player O's chance\n",
      "Enter the position between  1 - 9 : x\n"
     ]
    },
    {
     "ename": "ValueError",
     "evalue": "invalid literal for int() with base 10: 'x'",
     "output_type": "error",
     "traceback": [
      "\u001b[0;31m---------------------------------------------------------------------------\u001b[0m",
      "\u001b[0;31mValueError\u001b[0m                                Traceback (most recent call last)",
      "Input \u001b[0;32mIn [1]\u001b[0m, in \u001b[0;36m<cell line: 45>\u001b[0;34m()\u001b[0m\n\u001b[1;32m     51\u001b[0m     \u001b[38;5;28mprint\u001b[39m(\u001b[38;5;124m\"\u001b[39m\u001b[38;5;124mPlayer O\u001b[39m\u001b[38;5;124m'\u001b[39m\u001b[38;5;124ms chance\u001b[39m\u001b[38;5;124m\"\u001b[39m)\n\u001b[1;32m     52\u001b[0m     Mark \u001b[38;5;241m=\u001b[39m \u001b[38;5;124m'\u001b[39m\u001b[38;5;124mO\u001b[39m\u001b[38;5;124m'\u001b[39m\n\u001b[0;32m---> 53\u001b[0m choice \u001b[38;5;241m=\u001b[39m \u001b[38;5;28;43mint\u001b[39;49m\u001b[43m(\u001b[49m\u001b[38;5;28;43minput\u001b[39;49m\u001b[43m(\u001b[49m\u001b[38;5;124;43m\"\u001b[39;49m\u001b[38;5;124;43mEnter the position between  1 - 9 : \u001b[39;49m\u001b[38;5;124;43m\"\u001b[39;49m\u001b[43m)\u001b[49m\u001b[43m)\u001b[49m\n\u001b[1;32m     54\u001b[0m \u001b[38;5;28;01mif\u001b[39;00m(CheckPosition(choice)):\n\u001b[1;32m     55\u001b[0m     board[choice] \u001b[38;5;241m=\u001b[39m Mark\n",
      "\u001b[0;31mValueError\u001b[0m: invalid literal for int() with base 10: 'x'"
     ]
    }
   ],
   "source": [
    "board = [' ',' ',' ',' ',' ',' ',' ',' ',' ',' ']\n",
    "Game = 0\n",
    "Running = 0\n",
    "player=1\n",
    "Win=1\n",
    "Draw = 0\n",
    "\n",
    "def DrawBoard():    \n",
    "    print(\" %c | %c | %c \" % (board[1],board[2],board[3]))\n",
    "    print(\"___|___|___\")\n",
    "    print(\" %c | %c | %c \" % (board[4],board[5],board[6]))\n",
    "    print(\"___|___|___\")\n",
    "    print(\" %c | %c | %c \" % (board[7],board[8],board[9]))\n",
    "    print(\"   |   |   \")\n",
    "\n",
    "def CheckPosition(x):\n",
    "    if(board[x] == ' '):\n",
    "        return True\n",
    "    else:\n",
    "        return False\n",
    "\n",
    "def CheckWin():\n",
    "    global Game\n",
    "    if(board[1] == board[2] and board[2] == board[3] and board[1] != ' '):\n",
    "        Game = Win\n",
    "    elif(board[4] == board[5] and board[5] == board[6] and board[4] != ' '):\n",
    "        Game = Win\n",
    "    elif(board[7] == board[8] and board[8] == board[9] and board[7] != ' '):\n",
    "        Game = Win\n",
    "    elif(board[1] == board[4] and board[4] == board[7] and board[1] != ' '):\n",
    "        Game = Win\n",
    "    elif(board[2] == board[5] and board[5] == board[8] and board[2] != ' '):\n",
    "        Game = Win\n",
    "    elif(board[3] == board[6] and board[6] == board[9] and board[3] != ' '):\n",
    "        Game=Win\n",
    "    elif(board[1] == board[5] and board[5] == board[9] and board[5] != ' '):\n",
    "        Game = Win\n",
    "    elif(board[3] == board[5] and board[5] == board[7] and board[5] != ' '):\n",
    "        Game=Win\n",
    "    elif(board[1]!=' ' and board[2]!=' ' and board[3]!=' ' and board[4]!=' ' and board[5]!=' ' and board[6]!=' ' and board[7]!=' ' and board[8]!=' ' and board[9]!=' '):\n",
    "        Game=Draw\n",
    "    else:\n",
    "        Game=Running\n",
    "        \n",
    "while(Game==0):\n",
    "    DrawBoard()\n",
    "    if(player % 2 != 0):\n",
    "        print(\"Player X's chance\")\n",
    "        Mark = 'X'\n",
    "    else:\n",
    "        print(\"Player O's chance\")\n",
    "        Mark = 'O'\n",
    "    choice = int(input(\"Enter the position between  1 - 9 : \"))\n",
    "    if(CheckPosition(choice)):\n",
    "        board[choice] = Mark\n",
    "        player+=1\n",
    "        CheckWin()\n",
    "\n",
    "        \n",
    "DrawBoard()\n",
    "if(Game==Draw):\n",
    "    print(\"Game Draw\")\n",
    "elif(Game==Win):\n",
    "    player-=1\n",
    "    if(player%2!=0):\n",
    "        print(\"Player X Won\")\n",
    "    else:\n",
    "        print(\"Player O Won\")\n"
   ]
  },
  {
   "cell_type": "code",
   "execution_count": null,
   "id": "f2a8a614",
   "metadata": {},
   "outputs": [],
   "source": []
  }
 ],
 "metadata": {
  "kernelspec": {
   "display_name": "Python 3 (ipykernel)",
   "language": "python",
   "name": "python3"
  },
  "language_info": {
   "codemirror_mode": {
    "name": "ipython",
    "version": 3
   },
   "file_extension": ".py",
   "mimetype": "text/x-python",
   "name": "python",
   "nbconvert_exporter": "python",
   "pygments_lexer": "ipython3",
   "version": "3.8.10"
  }
 },
 "nbformat": 4,
 "nbformat_minor": 5
}
