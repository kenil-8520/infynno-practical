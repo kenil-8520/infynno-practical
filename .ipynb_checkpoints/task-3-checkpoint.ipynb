{
 "cells": [
  {
   "cell_type": "markdown",
   "id": "c0b618c6",
   "metadata": {},
   "source": [
    "Task - Pyhton\n",
    "There are x number of girls and they rolled a dice in turns one after another.\n",
    "\n",
    "If the number on the dice is , then the dice will be rolled again until she get a number other than .\n",
    "\n",
    "Since you know the sequence of numbers which the dice shows when rolled each time, you have to find what is the total number of girls or if the sequence is invalid.\n",
    "\n",
    "Input format\n",
    "A single line that contains a string denoting the sequence of numbers the dice rolls on written as string.\n",
    "\n",
    "Output format\n",
    "If the sequence is valid print the number of girls  \n",
    "If the sequence is invalid print -1\n",
    " \n",
    "Sample Input\n",
    "3662123\n",
    "\n",
    "Sample Output\n",
    "5"
   ]
  },
  {
   "cell_type": "code",
   "execution_count": 2,
   "id": "f33b6e77",
   "metadata": {},
   "outputs": [
    {
     "name": "stdout",
     "output_type": "stream",
     "text": [
      "5\n"
     ]
    }
   ],
   "source": [
    "a = '3662123'\n",
    "s = 6\n",
    "c=0\n",
    "\n",
    "\n",
    "\n",
    "for i in range(len(a)):\n",
    "    \n",
    "    if int(a[i]) <= s:\n",
    "        if int(a[i]) != s:\n",
    "            c+=1\n",
    "    else:\n",
    "        print(\"-1\")\n",
    "print(c)\n",
    "        "
   ]
  },
  {
   "cell_type": "code",
   "execution_count": 3,
   "id": "0bdaa9c5",
   "metadata": {},
   "outputs": [
    {
     "name": "stdout",
     "output_type": "stream",
     "text": [
      "    0 \n",
      "   1 1 \n",
      "  2 2 2 \n",
      " 3 3 3 3 \n",
      "4 4 4 4 4 \n"
     ]
    }
   ],
   "source": [
    "n = 5\n",
    "k = n - 1\n",
    "for i in range(0, n):\n",
    "    for j in range(0, k):\n",
    "        print(end=\" \")\n",
    "    \n",
    "    k = k - 1\n",
    "    for j in range(0, i+1):\n",
    "        print(i,\"\", end=\"\")\n",
    "    print(\"\")"
   ]
  },
  {
   "cell_type": "code",
   "execution_count": 4,
   "id": "17206d93",
   "metadata": {},
   "outputs": [
    {
     "name": "stdout",
     "output_type": "stream",
     "text": [
      "        A \r\n",
      "       B B \r\n",
      "      C C C \r\n",
      "     D D D D \r\n",
      "    E E E E E \r\n"
     ]
    }
   ],
   "source": [
    "n=5\n",
    "k = 2 * n - 2\n",
    "x = 65\n",
    "for i in range(0, n):\n",
    "    ch = chr(x)\n",
    "    x += 1\n",
    "    for j in range(0, k):\n",
    "        print(end=\" \")\n",
    "    k = k - 1\n",
    "    for j in range(0, i + 1):\n",
    "        print(ch, end=\" \")\n",
    "    print(\"\\r\")"
   ]
  },
  {
   "cell_type": "code",
   "execution_count": 5,
   "id": "43561898",
   "metadata": {},
   "outputs": [
    {
     "name": "stdout",
     "output_type": "stream",
     "text": [
      "    1 \n",
      "   A\n",
      "A\n",
      "\n",
      "  2 3 4 \n",
      " A\n",
      "A\n",
      "A\n",
      "A\n",
      "\n",
      "5 6 7 8 9 \n"
     ]
    }
   ],
   "source": [
    "n = 5\n",
    "j = 1\n",
    "v = ['A','E','I','O',\"U\"]\n",
    "for col in range(n):\n",
    "    for space in range(n - col - 1):\n",
    "        print(' ', end='')\n",
    "    if col%2==0:\n",
    "        for row in range(0+1 * col + 1):\n",
    "             print(j, end=\" \")\n",
    "             j= j+1\n",
    "    if col%2!=0:\n",
    "        for row in range(0 + 1 * col + 1):\n",
    "            for i in v:\n",
    "                print(i)\n",
    "                break\n",
    "#             print(\"*\", end=\" \")\n",
    "    print()"
   ]
  },
  {
   "cell_type": "code",
   "execution_count": 115,
   "id": "2aa3c2d4",
   "metadata": {},
   "outputs": [
    {
     "name": "stdout",
     "output_type": "stream",
     "text": [
      "     1 \n",
      "    A E \n",
      "   3 5 7 \n",
      "  I O U A \n",
      " 9 11 13 15 17 \n",
      "E I O U A E \n"
     ]
    }
   ],
   "source": [
    "n = 6\n",
    "j = 1\n",
    "li = [\"A\", \"E\", \"I\", \"O\", \"U\"]\n",
    "m = len(li)\n",
    "count = 0\n",
    "\n",
    "for col in range(n):\n",
    "    for space in range(n - col - 1):\n",
    "        print(' ', end='')\n",
    "    if col % 2 == 0:\n",
    "        for row in range(1 * col + 1):\n",
    "            print(j, end=\" \")\n",
    "            j = j + 2\n",
    "    else:\n",
    "        for i in range(len(li) - count):\n",
    "            for k in range(1 * col + 1):\n",
    "                print(li[count], end=' ')\n",
    "                count = count + 1\n",
    "                if count == 5:\n",
    "                    count = 0\n",
    "            break\n",
    "    print()"
   ]
  },
  {
   "cell_type": "code",
   "execution_count": 9,
   "id": "4a0b5216",
   "metadata": {
    "scrolled": true
   },
   "outputs": [
    {
     "ename": "ValueError",
     "evalue": "invalid literal for int() with base 10: ' '",
     "output_type": "error",
     "traceback": [
      "\u001b[0;31m---------------------------------------------------------------------------\u001b[0m",
      "\u001b[0;31mValueError\u001b[0m                                Traceback (most recent call last)",
      "Input \u001b[0;32mIn [9]\u001b[0m, in \u001b[0;36m<cell line: 56>\u001b[0;34m()\u001b[0m\n\u001b[1;32m     56\u001b[0m \u001b[38;5;28;01mif\u001b[39;00m \u001b[38;5;18m__name__\u001b[39m \u001b[38;5;241m==\u001b[39m \u001b[38;5;124m\"\u001b[39m\u001b[38;5;124m__main__\u001b[39m\u001b[38;5;124m\"\u001b[39m :\n\u001b[1;32m     58\u001b[0m \tstring \u001b[38;5;241m=\u001b[39m \u001b[38;5;124m\"\u001b[39m\u001b[38;5;124m2 + 5 + 3 + = 11\u001b[39m\u001b[38;5;124m\"\u001b[39m;\n\u001b[0;32m---> 59\u001b[0m \t\u001b[38;5;28;01mif\u001b[39;00m (\u001b[43misValid\u001b[49m\u001b[43m(\u001b[49m\u001b[43mstring\u001b[49m\u001b[43m)\u001b[49m) :\n\u001b[1;32m     60\u001b[0m \t\t\u001b[38;5;28mprint\u001b[39m(\u001b[38;5;124m\"\u001b[39m\u001b[38;5;124mValid\u001b[39m\u001b[38;5;124m\"\u001b[39m);\n\u001b[1;32m     61\u001b[0m \t\u001b[38;5;28;01melse\u001b[39;00m :\n",
      "Input \u001b[0;32mIn [9]\u001b[0m, in \u001b[0;36misValid\u001b[0;34m(string)\u001b[0m\n\u001b[1;32m     40\u001b[0m \u001b[38;5;28;01mif\u001b[39;00m (k \u001b[38;5;241m==\u001b[39m \u001b[38;5;241m3\u001b[39m) :\n\u001b[1;32m     41\u001b[0m \t\u001b[38;5;28;01mif\u001b[39;00m (operators[k \u001b[38;5;241m-\u001b[39m \u001b[38;5;241m1\u001b[39m] \u001b[38;5;241m==\u001b[39m \u001b[38;5;124m'\u001b[39m\u001b[38;5;124m+\u001b[39m\u001b[38;5;124m'\u001b[39m) :\n\u001b[0;32m---> 42\u001b[0m \t\tans2 \u001b[38;5;241m+\u001b[39m\u001b[38;5;241m=\u001b[39m ans1 \u001b[38;5;241m+\u001b[39m \u001b[38;5;28;43mint\u001b[39;49m\u001b[43m(\u001b[49m\u001b[43moperands\u001b[49m\u001b[43m[\u001b[49m\u001b[43mk\u001b[49m\u001b[43m]\u001b[49m\u001b[43m)\u001b[49m;\n\u001b[1;32m     44\u001b[0m \t\u001b[38;5;28;01mif\u001b[39;00m (operators[k \u001b[38;5;241m-\u001b[39m \u001b[38;5;241m1\u001b[39m] \u001b[38;5;241m==\u001b[39m \u001b[38;5;124m'\u001b[39m\u001b[38;5;124m-\u001b[39m\u001b[38;5;124m'\u001b[39m) :\n\u001b[1;32m     45\u001b[0m \t\tans2 \u001b[38;5;241m-\u001b[39m\u001b[38;5;241m=\u001b[39m ans1 \u001b[38;5;241m-\u001b[39m \u001b[38;5;28mint\u001b[39m(operands[k]);\n",
      "\u001b[0;31mValueError\u001b[0m: invalid literal for int() with base 10: ' '"
     ]
    }
   ],
   "source": []
  },
  {
   "cell_type": "code",
   "execution_count": null,
   "id": "8f943a28",
   "metadata": {},
   "outputs": [],
   "source": []
  },
  {
   "cell_type": "code",
   "execution_count": null,
   "id": "46f4eca7",
   "metadata": {},
   "outputs": [],
   "source": []
  },
  {
   "cell_type": "code",
   "execution_count": null,
   "id": "ca6c06da",
   "metadata": {},
   "outputs": [],
   "source": []
  },
  {
   "cell_type": "code",
   "execution_count": 112,
   "id": "616a4bf9",
   "metadata": {},
   "outputs": [
    {
     "name": "stdout",
     "output_type": "stream",
     "text": [
      "unbalanced\n",
      "unbalanced\n",
      "{[){(]}}\n"
     ]
    }
   ],
   "source": [
    "s = \"(-(2+3)/)[*(5-6])\"\n",
    "open_list = [\"[\",\"{\",\"(\"]\n",
    "close_list = [\"]\",\"}\",\")\"]\n",
    "stack = []\n",
    "for i in s:\n",
    "    if i in open_list:\n",
    "        stack.append(i)\n",
    "    elif i in close_list:\n",
    "        pos = close_list.index(i)\n",
    "        if((len(stack) > 0) and\n",
    "            (open_list[pos] == stack[len(stack)-1])):\n",
    "            stack.pop()\n",
    "        else:\n",
    "            print(\"unbalanced\")\n",
    "if len(stack) == 0:\n",
    "    print(\"balanced\")\n",
    "else:\n",
    "    print(\"unbalanced\")\n",
    "\n",
    "\n",
    "\n",
    "print(string)\n",
    "\n"
   ]
  },
  {
   "cell_type": "code",
   "execution_count": 103,
   "id": "03fc8f19",
   "metadata": {},
   "outputs": [
    {
     "name": "stdout",
     "output_type": "stream",
     "text": [
      "valid\n"
     ]
    }
   ],
   "source": [
    "str = \"{1-(2+4)/}[4*{5-6]}\"\n",
    "c = 0\n",
    "\n",
    "for i in str:\n",
    "    if i == '(' or i =='{' or i == '[':\n",
    "        c+=1\n",
    "    elif i == ')' or i =='}' or i ==']':\n",
    "        c-=1\n",
    "    if c < 0:\n",
    "        print(\"invaild\")\n",
    "if c == 0:\n",
    "    print(\"valid\")"
   ]
  },
  {
   "cell_type": "code",
   "execution_count": null,
   "id": "1672e774",
   "metadata": {},
   "outputs": [],
   "source": []
  },
  {
   "cell_type": "code",
   "execution_count": 87,
   "id": "5e8407d3",
   "metadata": {},
   "outputs": [
    {
     "name": "stdout",
     "output_type": "stream",
     "text": [
      "15\n"
     ]
    }
   ],
   "source": [
    "x,y =12,15\n",
    "r=y if x&1==0 else x\n",
    "print(r)\n"
   ]
  },
  {
   "cell_type": "code",
   "execution_count": 96,
   "id": "684e4849",
   "metadata": {},
   "outputs": [
    {
     "ename": "TypeError",
     "evalue": "'type' object is not subscriptable",
     "output_type": "error",
     "traceback": [
      "\u001b[0;31m---------------------------------------------------------------------------\u001b[0m",
      "\u001b[0;31mTypeError\u001b[0m                                 Traceback (most recent call last)",
      "Input \u001b[0;32mIn [96]\u001b[0m, in \u001b[0;36m<cell line: 23>\u001b[0;34m()\u001b[0m\n\u001b[1;32m     21\u001b[0m \u001b[38;5;66;03m# Driver code\u001b[39;00m\n\u001b[1;32m     22\u001b[0m string \u001b[38;5;241m=\u001b[39m \u001b[38;5;124m\"\u001b[39m\u001b[38;5;124m{\u001b[39m\u001b[38;5;124m[)\u001b[39m\u001b[38;5;124m{\u001b[39m\u001b[38;5;124m(]}}\u001b[39m\u001b[38;5;124m\"\u001b[39m\n\u001b[0;32m---> 23\u001b[0m \u001b[38;5;28mprint\u001b[39m(string, \u001b[38;5;124m\"\u001b[39m\u001b[38;5;124m-\u001b[39m\u001b[38;5;124m\"\u001b[39m, \u001b[43mcheck\u001b[49m\u001b[43m(\u001b[49m\u001b[43mstring\u001b[49m\u001b[43m)\u001b[49m)\n",
      "Input \u001b[0;32mIn [96]\u001b[0m, in \u001b[0;36mcheck\u001b[0;34m(expression)\u001b[0m\n\u001b[1;32m      3\u001b[0m \u001b[38;5;28;01mdef\u001b[39;00m \u001b[38;5;21mcheck\u001b[39m(expression):\n\u001b[0;32m----> 5\u001b[0m \topen_tup \u001b[38;5;241m=\u001b[39m \u001b[38;5;28;43mlist\u001b[39;49m\u001b[43m[\u001b[49m\u001b[38;5;124;43m'\u001b[39;49m\u001b[38;5;124;43m(\u001b[39;49m\u001b[38;5;124;43m{\u001b[39;49m\u001b[38;5;124;43m[\u001b[39;49m\u001b[38;5;124;43m'\u001b[39;49m\u001b[43m]\u001b[49m\n\u001b[1;32m      6\u001b[0m \tclose_tup \u001b[38;5;241m=\u001b[39m \u001b[38;5;28mlist\u001b[39m[\u001b[38;5;124m'\u001b[39m\u001b[38;5;124m)}]\u001b[39m\u001b[38;5;124m'\u001b[39m]\n\u001b[1;32m      7\u001b[0m \t\u001b[38;5;28mmap\u001b[39m \u001b[38;5;241m=\u001b[39m \u001b[38;5;28mdict\u001b[39m(\u001b[38;5;28mzip\u001b[39m(open_tup, close_tup))\n",
      "\u001b[0;31mTypeError\u001b[0m: 'type' object is not subscriptable"
     ]
    }
   ],
   "source": [
    "# Python3 code to Check for\n",
    "# balanced parentheses in an expression\n",
    "def check(expression):\n",
    "\t\n",
    "\topen_tup = list['({[']\n",
    "\tclose_tup = list[')}]']\n",
    "\tmap = dict(zip(open_tup, close_tup))\n",
    "\tqueue = []\n",
    "\n",
    "\tfor i in expression:\n",
    "\t\tif i in open_tup:\n",
    "\t\t\tqueue.append(map[i])\n",
    "\t\telif i in close_tup:\n",
    "\t\t\tif not queue or i != queue.pop():\n",
    "\t\t\t\treturn \"Unbalanced\"\n",
    "\tif not queue:\n",
    "\t\treturn \"Balanced\"\n",
    "\telse:\n",
    "\t\treturn \"Unbalanced\"\n",
    "\n",
    "# Driver code\n",
    "string = \"{[){(]}}\"\n",
    "print(string, \"-\", check(string))\n",
    "\n",
    "# string = \"((()\"\n",
    "# print(string,\"-\",check(string))\n"
   ]
  },
  {
   "cell_type": "code",
   "execution_count": 101,
   "id": "639e6616",
   "metadata": {},
   "outputs": [
    {
     "name": "stdout",
     "output_type": "stream",
     "text": [
      "The given string is not balanced\n"
     ]
    }
   ],
   "source": [
    "def checkBalance(expr):  \n",
    "    stack = []  \n",
    "    for char in expr:  \n",
    "        if char in [\"(\", \"{\", \"[\"]:  \n",
    "            stack.append(char)  \n",
    "        else:  \n",
    "  \n",
    "            if not stack:  \n",
    "                return False  \n",
    "            curr_char = stack.pop()  \n",
    "            if curr_char == '(':  \n",
    "                if char != \")\":  \n",
    "                    return False  \n",
    "            if curr_char == '{':  \n",
    "                if char != \"}\":  \n",
    "                    return False  \n",
    "            if curr_char == '[':  \n",
    "                if char != \"]\":  \n",
    "                    return False  \n",
    "  \n",
    "    # Here we check empty stack  \n",
    "    if stack:  \n",
    "        return False  \n",
    "    return True  \n",
    "  \n",
    "  \n",
    "expr = \"(-(2+3)/){[*(5-6)]}\"  \n",
    "  \n",
    "if checkBalance(expr):  \n",
    "    print(\"The given string is balanced\")  \n",
    "else:  \n",
    "    print(\"The given string is not balanced\")  "
   ]
  },
  {
   "cell_type": "code",
   "execution_count": 110,
   "id": "c5f57be0",
   "metadata": {},
   "outputs": [
    {
     "name": "stdout",
     "output_type": "stream",
     "text": [
      "valid\n"
     ]
    }
   ],
   "source": [
    "str = \"{1-(2+4)/}[4*{5-6}]\"\n",
    "l1 = ['(','{','[']\n",
    "l2 = [')','}',']']\n",
    "l3=[]\n",
    "for i in str:\n",
    "    if i in l1:\n",
    "        l3.append(i)\n",
    "    elif i in l2:\n",
    "        p = l2.index(i)\n",
    "        if len(l3)>0 and l1[p] == l3[-1]:\n",
    "            l3.pop()\n",
    "        else:\n",
    "            l3.append(i)\n",
    "if len(l3) == 0:\n",
    "    print(\"valid\")\n",
    "else:\n",
    "    print(\"invalid\")"
   ]
  },
  {
   "cell_type": "code",
   "execution_count": null,
   "id": "5244ee57",
   "metadata": {},
   "outputs": [],
   "source": []
  },
  {
   "cell_type": "code",
   "execution_count": 150,
   "id": "59952367",
   "metadata": {},
   "outputs": [
    {
     "name": "stdout",
     "output_type": "stream",
     "text": [
      "     1 \n",
      "    A E \n",
      "   3 5 7 \n",
      "  I O U A \n",
      " 9 11 13 15 17 \n",
      "E I O U A E \n"
     ]
    }
   ],
   "source": [
    "n = 6\n",
    "j = 1\n",
    "li = [\"A\", \"E\", \"I\", \"O\", \"U\"]\n",
    "m = len(li)\n",
    "count = 0\n",
    "\n",
    "for col in range(n):\n",
    "    for space in range(n - col - 1):\n",
    "        print(' ', end='')\n",
    "    if col % 2 == 0:\n",
    "        for row in range(1 * col + 1):\n",
    "            print(j, end=\" \")\n",
    "            j = j + 2\n",
    "    else:\n",
    "        for i in range(len(li) - count):\n",
    "            for k in range(1 * col + 1):\n",
    "                print(li[count], end=' ')\n",
    "                count = count + 1\n",
    "                if count == 5:\n",
    "                    count = 0\n",
    "            break\n",
    "    print()"
   ]
  },
  {
   "cell_type": "code",
   "execution_count": null,
   "id": "23d14333",
   "metadata": {},
   "outputs": [],
   "source": []
  },
  {
   "cell_type": "code",
   "execution_count": 117,
   "id": "98362abc",
   "metadata": {},
   "outputs": [
    {
     "name": "stdout",
     "output_type": "stream",
     "text": [
      "\n",
      "1\n",
      "2\n",
      "13\n",
      "24\n"
     ]
    }
   ],
   "source": [
    "# Python3 program to print above pattern\n",
    "def display(n):\n",
    "\tfor i in range(1, n + 1):\n",
    "\t\tk = i\n",
    "\t\tfor j in range(1, i + 1):\n",
    "\t\t\tif k % 2 == 0:\n",
    "\t\t\t\t\n",
    "\t\t\t\t# Displaying the numbers\n",
    "\t\t\t\tprint(j, end = '')\n",
    "\t\t\telse:\n",
    "\t\t\t\t\n",
    "\t\t\t\t# Displaying the stars\n",
    "\t\t\t\tprint('', end = '')\n",
    "\t\t\tk -= 1\n",
    "\t\tprint()\n",
    "\n",
    "# Driver Code\n",
    "\n",
    "# Get n\n",
    "n = 5\n",
    "\n",
    "# Print the pattern\n",
    "display(n)\n",
    "\n",
    "# This code is contributed by SamyuktaSHegde\n"
   ]
  },
  {
   "cell_type": "code",
   "execution_count": 149,
   "id": "cff0e3c7",
   "metadata": {},
   "outputs": [
    {
     "name": "stdout",
     "output_type": "stream",
     "text": [
      "     1 \n",
      "    2 4 \n",
      "   3 5 7 \n",
      "  6 8 10 12 \n",
      " 9 11 13 15 17 \n",
      "14 16 18 20 22 24 \n"
     ]
    }
   ],
   "source": [
    "n = 6\n",
    "j = 1\n",
    "li = 0\n",
    "# m = len(li)\n",
    "# count = 0\n",
    "\n",
    "for col in range(n):\n",
    "    for space in range(n - col - 1):\n",
    "        print(' ', end='')\n",
    "    if col % 2 == 0:\n",
    "        for row in range(1 * col + 1):\n",
    "            print(j, end=\" \")\n",
    "            j = j + 2\n",
    "    else:\n",
    "        for i in range(n):\n",
    "            for k in range(1 * col + 1):\n",
    "                li+=2\n",
    "                print(li,end=' ')\n",
    "            break\n",
    "    print()"
   ]
  },
  {
   "cell_type": "code",
   "execution_count": 155,
   "id": "3fe8b908",
   "metadata": {},
   "outputs": [],
   "source": [
    "import pandas as pd"
   ]
  },
  {
   "cell_type": "code",
   "execution_count": 170,
   "id": "d0123fd7",
   "metadata": {},
   "outputs": [],
   "source": [
    "dmart = {\n",
    "    'product1': \n",
    "        {'Name': 'abc', \n",
    "          'Age': '21', \n",
    "          'gender': 'Male'},\n",
    "    'product2': \n",
    "            {'Name': 'xyz', \n",
    "            'Age': '22', \n",
    "            'gender': 'Female'}\n",
    "        }\n",
    "\n"
   ]
  },
  {
   "cell_type": "code",
   "execution_count": 169,
   "id": "f3233a2b",
   "metadata": {
    "scrolled": true
   },
   "outputs": [
    {
     "data": {
      "text/html": [
       "<div>\n",
       "<style scoped>\n",
       "    .dataframe tbody tr th:only-of-type {\n",
       "        vertical-align: middle;\n",
       "    }\n",
       "\n",
       "    .dataframe tbody tr th {\n",
       "        vertical-align: top;\n",
       "    }\n",
       "\n",
       "    .dataframe thead th {\n",
       "        text-align: right;\n",
       "    }\n",
       "</style>\n",
       "<table border=\"1\" class=\"dataframe\">\n",
       "  <thead>\n",
       "    <tr style=\"text-align: right;\">\n",
       "      <th></th>\n",
       "      <th>product1</th>\n",
       "      <th>product2</th>\n",
       "    </tr>\n",
       "  </thead>\n",
       "  <tbody>\n",
       "    <tr>\n",
       "      <th>Name</th>\n",
       "      <td>abc</td>\n",
       "      <td>Marie</td>\n",
       "    </tr>\n",
       "    <tr>\n",
       "      <th>Age</th>\n",
       "      <td>21</td>\n",
       "      <td>22</td>\n",
       "    </tr>\n",
       "    <tr>\n",
       "      <th>gender</th>\n",
       "      <td>Male</td>\n",
       "      <td>Female</td>\n",
       "    </tr>\n",
       "  </tbody>\n",
       "</table>\n",
       "</div>"
      ],
      "text/plain": [
       "       product1 product2\n",
       "Name        abc    Marie\n",
       "Age          21       22\n",
       "gender     Male   Female"
      ]
     },
     "execution_count": 169,
     "metadata": {},
     "output_type": "execute_result"
    }
   ],
   "source": [
    "pd.DataFrame.from_dict(dmart)"
   ]
  },
  {
   "cell_type": "code",
   "execution_count": 172,
   "id": "eef766ea",
   "metadata": {},
   "outputs": [
    {
     "data": {
      "text/plain": [
       "dict_keys(['product1', 'product2'])"
      ]
     },
     "execution_count": 172,
     "metadata": {},
     "output_type": "execute_result"
    }
   ],
   "source": [
    "dmart.keys()"
   ]
  },
  {
   "cell_type": "code",
   "execution_count": 180,
   "id": "d9df92d5",
   "metadata": {},
   "outputs": [
    {
     "data": {
      "text/plain": [
       "'22'"
      ]
     },
     "execution_count": 180,
     "metadata": {},
     "output_type": "execute_result"
    }
   ],
   "source": [
    "dmart[\"product2\"][\"Age\"]"
   ]
  },
  {
   "cell_type": "code",
   "execution_count": 185,
   "id": "695c951e",
   "metadata": {},
   "outputs": [
    {
     "name": "stdout",
     "output_type": "stream",
     "text": [
      "product1\n",
      "product2\n"
     ]
    }
   ],
   "source": [
    "for i in dmart:\n",
    "    print(i)"
   ]
  },
  {
   "cell_type": "code",
   "execution_count": 207,
   "id": "4743bb14",
   "metadata": {},
   "outputs": [
    {
     "name": "stdout",
     "output_type": "stream",
     "text": [
      "{'Name': 'abc', 'Age': '21', 'gender': 'Male'}\n",
      "{'Name': 'Marxie', 'Age': '22', 'gender': 'Female'}\n"
     ]
    }
   ],
   "source": [
    "for i in dmart:\n",
    "    print(dmart[i])"
   ]
  },
  {
   "cell_type": "code",
   "execution_count": 205,
   "id": "4c69ec7e",
   "metadata": {},
   "outputs": [
    {
     "name": "stdout",
     "output_type": "stream",
     "text": [
      "color red\n",
      "age 42\n",
      "planet of origin mars\n"
     ]
    }
   ],
   "source": [
    "spam = {'color': 'red', 'age': '42','planet of origin': 'mars'}\n",
    "\n",
    "for k,v in spam.items():\n",
    "    print(k,v)\n",
    "#      print(str(k)+': '  + str(v))"
   ]
  },
  {
   "cell_type": "code",
   "execution_count": 220,
   "id": "35ac749b",
   "metadata": {
    "scrolled": true
   },
   "outputs": [
    {
     "name": "stdout",
     "output_type": "stream",
     "text": [
      "[3, 2, 4]\n"
     ]
    }
   ],
   "source": [
    "test_list = [{'key' : 1, 'key' : 2, 'key' : 3}, \n",
    "             {'key' : 2}, {'key' : 3, 'key' : 4}]\n",
    "  \n",
    "# print( (test_list))\n",
    "res = [ sub['key'] for sub in test_list ]\n",
    "print(res)\n",
    "# print(\"The values corresponding to key : \" + str(res))"
   ]
  },
  {
   "cell_type": "code",
   "execution_count": 57,
   "id": "20f1433d",
   "metadata": {},
   "outputs": [],
   "source": [
    "# def get_key(val):\n",
    "#     i = d_mart.values()\n",
    "#     for j in i:\n",
    "#         k = j.values()\n",
    "#         for l in k:\n",
    "# #             print(l)\n",
    "#             for key, value in l.items():\n",
    "#                  if val == value:\n",
    "#                      return key\n",
    "\n",
    "\n",
    "# i = d_mart.values()\n",
    "# for j in i:\n",
    "#     k = j.values()\n",
    "#     for l in k:\n",
    "# #         print(l)\n",
    "#         d = l.values()\n",
    "# #         print(d)\n",
    "#         for m in d:\n",
    "#           for k , v in m.items():\n",
    "#               if k =='price' :\n",
    "#                   if v > 200:\n",
    "#                       price.__setitem__(k,v)\n",
    "#                       get_key(price)\n",
    "#                       print(price)"
   ]
  },
  {
   "cell_type": "code",
   "execution_count": 58,
   "id": "8ecec6b7",
   "metadata": {},
   "outputs": [],
   "source": [
    "price ={}\n",
    "d_mart = {\n",
    "    \"Inventory\": {\n",
    "        \"Clothes\": {\n",
    "            \"shirt\": {\n",
    "                \"Quantity\": 50,\n",
    "                \"price\": 200\n",
    "            },\n",
    "            \"Jeans\": {\n",
    "                \"Quantity\": 30,\n",
    "                \"price\": 250\n",
    "            }\n",
    "\n",
    "        },\n",
    "        \"Groceries\": {\n",
    "            \"oil\": {\n",
    "                \"Quantity\": 45,\n",
    "                \"price\": 2000,\n",
    "            },\n",
    "            \"rice\": {\n",
    "                \"Quantity\": 205,\n",
    "                \"price\": 100,\n",
    "            },\n",
    "            \"wheat\": {\n",
    "                \"Quantity\": 69,\n",
    "                \"price\": 1000,\n",
    "            }\n",
    "        },\n",
    "\n",
    "    }\n",
    "}\n"
   ]
  },
  {
   "cell_type": "code",
   "execution_count": 91,
   "id": "e6848681",
   "metadata": {
    "scrolled": true
   },
   "outputs": [
    {
     "name": "stdout",
     "output_type": "stream",
     "text": [
      "Jeans : price 225.0 10% discount\n",
      "oil : price 2000 By one get one free\n",
      "wheat : price 1000 200gm free\n"
     ]
    }
   ],
   "source": [
    "for j in i:\n",
    "    k = j.values()\n",
    "    for l in k:\n",
    "        for k1 , v2 in l.items():\n",
    "             for k,v in v2.items():\n",
    "                if k=='price' and  v > 200:\n",
    "                    if v <= 250:\n",
    "                        dis_am = (10*v)/100;\n",
    "                        dis = v - dis_am\n",
    "                        print(k1, ':', k, dis, '10% discount')\n",
    "                    elif v >= 2000:\n",
    "                        print(k1, ':', k, v, 'By one get one free')\n",
    "                    elif v == 1000:\n",
    "                        print(k1, ':', k, v, '200gm free')\n",
    "                    else:\n",
    "                        print(k1, ':', k, v, 'not in discount')\n",
    "            "
   ]
  },
  {
   "cell_type": "code",
   "execution_count": 71,
   "id": "7ccab768",
   "metadata": {
    "scrolled": false
   },
   "outputs": [
    {
     "name": "stdout",
     "output_type": "stream",
     "text": [
      "price 1000\n"
     ]
    }
   ],
   "source": [
    "print(k,v)"
   ]
  },
  {
   "cell_type": "code",
   "execution_count": 93,
   "id": "f231357f",
   "metadata": {},
   "outputs": [
    {
     "data": {
      "text/plain": [
       "1000"
      ]
     },
     "execution_count": 93,
     "metadata": {},
     "output_type": "execute_result"
    }
   ],
   "source": []
  },
  {
   "cell_type": "code",
   "execution_count": 119,
   "id": "fbf7ea0b",
   "metadata": {
    "scrolled": true
   },
   "outputs": [
    {
     "data": {
      "text/plain": [
       "dict_values([{'Quantity': 45, 'price': 2000}, {'Quantity': 205, 'price': 100}, {'Quantity': 69, 'price': 1000}])"
      ]
     },
     "execution_count": 119,
     "metadata": {},
     "output_type": "execute_result"
    }
   ],
   "source": [
    "l.values()"
   ]
  },
  {
   "cell_type": "code",
   "execution_count": null,
   "id": "4e973695",
   "metadata": {},
   "outputs": [],
   "source": []
  },
  {
   "cell_type": "code",
   "execution_count": 193,
   "id": "2442b9a7",
   "metadata": {},
   "outputs": [
    {
     "name": "stdout",
     "output_type": "stream",
     "text": [
      "20\n"
     ]
    }
   ],
   "source": [
    "def demo(a):\n",
    "    x = lambda a:a+a\n",
    "    return a+a\n",
    "print(x(10))"
   ]
  },
  {
   "cell_type": "code",
   "execution_count": 5,
   "id": "22aec785",
   "metadata": {},
   "outputs": [
    {
     "name": "stdout",
     "output_type": "stream",
     "text": [
      "demo\n"
     ]
    }
   ],
   "source": [
    "class cl:\n",
    "    def a(self,a):\n",
    "        print(a)\n",
    "ob = cl()\n",
    "ob.a(\"demo\")"
   ]
  },
  {
   "cell_type": "code",
   "execution_count": 13,
   "id": "e695b2e0",
   "metadata": {},
   "outputs": [
    {
     "name": "stdout",
     "output_type": "stream",
     "text": [
      "4\n"
     ]
    }
   ],
   "source": [
    "x = lambda y:x*x\n",
    "print(y(2))"
   ]
  },
  {
   "cell_type": "code",
   "execution_count": null,
   "id": "f76862de",
   "metadata": {},
   "outputs": [],
   "source": []
  }
 ],
 "metadata": {
  "kernelspec": {
   "display_name": "Python 3 (ipykernel)",
   "language": "python",
   "name": "python3"
  },
  "language_info": {
   "codemirror_mode": {
    "name": "ipython",
    "version": 3
   },
   "file_extension": ".py",
   "mimetype": "text/x-python",
   "name": "python",
   "nbconvert_exporter": "python",
   "pygments_lexer": "ipython3",
   "version": "3.8.10"
  }
 },
 "nbformat": 4,
 "nbformat_minor": 5
}
