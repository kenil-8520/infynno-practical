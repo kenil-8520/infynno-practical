{
 "cells": [
  {
   "cell_type": "markdown",
   "id": "19f66b62",
   "metadata": {},
   "source": [
    "Task 1. Replace JAVA with PYTHON in given string. Also find how many time Java before replace string and how many time python after replace string.\n",
    "\n",
    "String example :: \n",
    "Java is a widely used programming language. The rules and syntax of Java are based on the C and C++ languages. I love Java more than Python. Python is JAva but JAva is python.\n",
    "\n",
    "Output \n",
    "\n",
    "String :: PYTHON is a widely used programming language. The rules and syntax of PYTHON are based on the C and C++ languages. I love PYTHON more than Python. Python is PYTHON but PYTHON is python.\n",
    "Java before replace string :: X times\n",
    "Python after replace string :: X times\n",
    "\n",
    "\n",
    "Task 2. Check is given string list is Fibonacci or not?\n",
    "\n",
    "Task 3. Find the Prime number from given string list.\n",
    "\n",
    "Task 4. Check is given number is Armstrong?\n",
    "\n",
    "Task 5. Do calculation of sting and result it. \n",
    "\n",
    "String example ::\n",
    "5, +, 10, -, 6, 5, *, 2, +, 3, 2, /, 4 \n",
    "\n",
    "Answer is :: -17  [5 + 10 - 65 * 2 + 32 / 4]"
   ]
  },
  {
   "cell_type": "markdown",
   "id": "960001b8",
   "metadata": {},
   "source": [
    "# 1"
   ]
  },
  {
   "cell_type": "code",
   "execution_count": 180,
   "id": "7e581bdf",
   "metadata": {},
   "outputs": [],
   "source": [
    "str1 = \"Java is a widely used programming language. The rules and syntax of Java are based on the C and C++ languages. I love Java more than Python. Python is JAva but JAva is python.\""
   ]
  },
  {
   "cell_type": "code",
   "execution_count": 116,
   "id": "9cd2b35d",
   "metadata": {},
   "outputs": [
    {
     "name": "stdout",
     "output_type": "stream",
     "text": [
      "Java is = 5\n"
     ]
    }
   ],
   "source": [
    "counter = str.count('Java')\n",
    "counter1 = str.count('JAva')\n",
    "\n",
    "a = counter + counter2\n",
    "print (\"Java is =\",a)"
   ]
  },
  {
   "cell_type": "code",
   "execution_count": 118,
   "id": "926241cd",
   "metadata": {},
   "outputs": [
    {
     "name": "stdout",
     "output_type": "stream",
     "text": [
      "python is =  3\n"
     ]
    }
   ],
   "source": [
    "counter2 = str.count('Python')\n",
    "counter3 = str.count('python')\n",
    "ans = counter2 + counter3\n",
    "print(\"python is = \",ans)"
   ]
  },
  {
   "cell_type": "code",
   "execution_count": 119,
   "id": "a6093713",
   "metadata": {},
   "outputs": [
    {
     "data": {
      "text/plain": [
       "'Python is a widely used programming language. The rules and syntax of Python are based on the C and C++ languages. I love Python more than Python. Python is Python but Python is python.'"
      ]
     },
     "execution_count": 119,
     "metadata": {},
     "output_type": "execute_result"
    }
   ],
   "source": [
    "x = str.replace(\"Java\",\"Python\").replace(\"JAva\",\"Python\")\n",
    "x"
   ]
  },
  {
   "cell_type": "markdown",
   "id": "f28bdac2",
   "metadata": {},
   "source": [
    "# 2"
   ]
  },
  {
   "cell_type": "code",
   "execution_count": 172,
   "id": "c7548176",
   "metadata": {},
   "outputs": [
    {
     "name": "stdout",
     "output_type": "stream",
     "text": [
      "Enter the number: 01\n",
      "fibonacci number\n"
     ]
    }
   ],
   "source": [
    "n=int(input(\"Enter the number: \"))\n",
    "c=0\n",
    "a=1\n",
    "b=1\n",
    "if n==0 or n==1:\n",
    "    print(\"fibonacci number\")\n",
    "else:\n",
    "    while c<n:\n",
    "        c=a+b\n",
    "        b=a\n",
    "        a=c\n",
    "    if c==n:\n",
    "        print(\"fibonacci number\")\n",
    "    else:\n",
    "        print(\"Not a fibonacci number\")"
   ]
  },
  {
   "cell_type": "markdown",
   "id": "0b96d4bf",
   "metadata": {},
   "source": [
    "# 3"
   ]
  },
  {
   "cell_type": "code",
   "execution_count": 134,
   "id": "da6b8c28",
   "metadata": {},
   "outputs": [
    {
     "name": "stdout",
     "output_type": "stream",
     "text": [
      "enter number12\n",
      "12 is not a prime number\n"
     ]
    }
   ],
   "source": [
    "num = int(input(\"enter number\"))\n",
    "\n",
    "if num > 1:\n",
    "  \n",
    "    for i in range(2, int(num/2)+1):\n",
    "        if (num % i) == 0:\n",
    "            print(num, \"is not a prime number\")\n",
    "            break\n",
    "    else:\n",
    "        print(num, \"is a prime number\")\n",
    "  \n",
    "else:\n",
    "    print(num, \"is not a prime number\")"
   ]
  },
  {
   "cell_type": "markdown",
   "id": "7c49df50",
   "metadata": {},
   "source": [
    "# 4"
   ]
  },
  {
   "cell_type": "code",
   "execution_count": 173,
   "id": "f04fab8a",
   "metadata": {},
   "outputs": [
    {
     "name": "stdout",
     "output_type": "stream",
     "text": [
      "Enter a number: 371\n",
      "371 is an Armstrong number\n"
     ]
    }
   ],
   "source": [
    "n = int(input(\"Enter a number: \"))\n",
    "s = 0\n",
    "t = n\n",
    "\n",
    "while t > 0:\n",
    "   digit = t % 10\n",
    "   s += digit ** 3\n",
    "   t //= 10\n",
    "if n == s:\n",
    "   print(n,\"is an Armstrong number\")\n",
    "else:\n",
    "   print(n,\"is not an Armstrong number\")\n"
   ]
  },
  {
   "cell_type": "markdown",
   "id": "84457456",
   "metadata": {},
   "source": [
    "# 5"
   ]
  },
  {
   "cell_type": "code",
   "execution_count": 22,
   "id": "911850c6",
   "metadata": {},
   "outputs": [
    {
     "name": "stdout",
     "output_type": "stream",
     "text": [
      "False\n"
     ]
    }
   ],
   "source": [
    "str= \"5, +, 10, -, 6, 5, *, 2, +, 3, 2, /, 4\"\n",
    "print(str.isdigit())"
   ]
  },
  {
   "cell_type": "code",
   "execution_count": 27,
   "id": "0300babb",
   "metadata": {},
   "outputs": [
    {
     "data": {
      "text/plain": [
       "'5+10-65*2+32/4'"
      ]
     },
     "execution_count": 27,
     "metadata": {},
     "output_type": "execute_result"
    }
   ],
   "source": [
    "x=str.replace(\", \",\"\")\n",
    "x"
   ]
  },
  {
   "cell_type": "code",
   "execution_count": null,
   "id": "d824c58a",
   "metadata": {},
   "outputs": [],
   "source": []
  },
  {
   "cell_type": "code",
   "execution_count": 28,
   "id": "5a34a540",
   "metadata": {},
   "outputs": [],
   "source": [
    "# li = [str]\n",
    "# li\n",
    "# list1=list(map(list,str))\n",
    "# list1\n",
    "# for i in str:\n",
    "#     if i == \",\":\n",
    "#         print(i.replace(\",\",\"\"))\n",
    "# #         print(i)\n",
    "#     else:\n",
    "#         print(i)"
   ]
  },
  {
   "cell_type": "code",
   "execution_count": null,
   "id": "65062527",
   "metadata": {},
   "outputs": [],
   "source": []
  },
  {
   "cell_type": "code",
   "execution_count": 12,
   "id": "9150d2fe",
   "metadata": {},
   "outputs": [],
   "source": [
    "# a = eval(x)\n",
    "# a"
   ]
  },
  {
   "cell_type": "code",
   "execution_count": null,
   "id": "3df5998e",
   "metadata": {},
   "outputs": [],
   "source": [
    "# for i in range(len(a)):\n",
    "#     if a[i] - '0' ! = s:\n",
    "#         c +=1\n",
    "#     print(c)"
   ]
  }
 ],
 "metadata": {
  "kernelspec": {
   "display_name": "Python 3 (ipykernel)",
   "language": "python",
   "name": "python3"
  },
  "language_info": {
   "codemirror_mode": {
    "name": "ipython",
    "version": 3
   },
   "file_extension": ".py",
   "mimetype": "text/x-python",
   "name": "python",
   "nbconvert_exporter": "python",
   "pygments_lexer": "ipython3",
   "version": "3.8.10"
  }
 },
 "nbformat": 4,
 "nbformat_minor": 5
}
