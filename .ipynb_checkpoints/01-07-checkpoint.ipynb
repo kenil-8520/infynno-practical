{
 "cells": [
  {
   "cell_type": "code",
   "execution_count": 1,
   "id": "cd34a406",
   "metadata": {},
   "outputs": [
    {
     "name": "stdout",
     "output_type": "stream",
     "text": [
      "enter a number x\n",
      "Binary = 1111000\n",
      "number of maximum 0 = 3\n"
     ]
    }
   ],
   "source": [
    "n = input(\"enter a number \")\n",
    "if n.isdigit():\n",
    "    c= bin(int(n))[2:]\n",
    "    print(f\"Binary = {c}\")\n",
    "    x = c.split(\"1\")\n",
    "    m = max(x)\n",
    "    print(f\"number of maximum 0 = {len(m)}\")\n",
    "else:\n",
    "    s = ' '.join(format(ord(x), 'b') for x in n)\n",
    "    print(f\"Binary = {s}\")\n",
    "    k = s.split(\"1\")\n",
    "    m = max(k)\n",
    "    print(f\"number of maximum 0 = {len(m)}\")"
   ]
  },
  {
   "cell_type": "code",
   "execution_count": null,
   "id": "897371d9",
   "metadata": {},
   "outputs": [],
   "source": []
  },
  {
   "cell_type": "code",
   "execution_count": null,
   "id": "049b4ae1",
   "metadata": {},
   "outputs": [],
   "source": []
  },
  {
   "cell_type": "code",
   "execution_count": 247,
   "id": "2ed7c0d1",
   "metadata": {},
   "outputs": [
    {
     "name": "stdout",
     "output_type": "stream",
     "text": [
      "58.2\n"
     ]
    }
   ],
   "source": [
    "n = 60\n",
    "jump = 5\n",
    "down = 3\n",
    "\n",
    "\n",
    "c = n - down / (jump/down)\n",
    "# 50 - 4 / (5-4)\n",
    "print(c)\n",
    "# for i in range(n):\n",
    "#     jump+=5\n",
    "#     down-=4\n",
    "\n",
    "#     l = \n",
    "#     print(l)\n",
    "# jump+=5\n",
    "# down "
   ]
  },
  {
   "cell_type": "code",
   "execution_count": null,
   "id": "2e9226ed",
   "metadata": {},
   "outputs": [],
   "source": []
  },
  {
   "cell_type": "code",
   "execution_count": 258,
   "id": "ab1c7501",
   "metadata": {},
   "outputs": [
    {
     "name": "stdout",
     "output_type": "stream",
     "text": [
      "[0, 1, 5, 6, 9]\n"
     ]
    }
   ],
   "source": [
    "n=[1,5,6,9,0]\n",
    "for i in range(len(n)):\n",
    "    for j in range(i+1,len(n)):\n",
    "        if n[i]>n[j]:\n",
    "            n[i],n[j]=n[j],n[i]\n",
    "print(n)"
   ]
  },
  {
   "cell_type": "code",
   "execution_count": null,
   "id": "4d9e0d93",
   "metadata": {},
   "outputs": [],
   "source": []
  },
  {
   "cell_type": "code",
   "execution_count": 16,
   "id": "1138ff4b",
   "metadata": {},
   "outputs": [],
   "source": [
    "import json\n",
    "\n",
    "a = {\n",
    "    \"C\": 1.1,\n",
    "    \"O\": True,\n",
    "    \"M\": \"HelloWorld\",\n",
    "    \"P\": {\n",
    "        \"X\": 1,\n",
    "        \"Y\": 2,\n",
    "        \"Z\": 3\n",
    "    },\n",
    "    \"U\": 25,\n",
    "    \"T\": None,\n",
    "    \"E\": [\"Python\", \"Is\", \"Beautiful\"],\n",
    "    \"R\": [1, 2, 100, 200]\n",
    "}\n",
    "def prev():\n",
    "    targets = [\"C\", \"O\", \"M\", \"P\"]\n",
    "    result = {key: a[key] for key in a.keys() if key in targets}\n",
    "    print(json.dumps(result, indent = 4))\n",
    "\n",
    "def nex():\n",
    "    targets = [\"U\", \"T\", \"E\", \"R\"]\n",
    "    result = {key: a[key] for key in a.keys() if key in targets}\n",
    "    print(json.dumps(result, indent = 4))"
   ]
  },
  {
   "cell_type": "code",
   "execution_count": 17,
   "id": "4681a9dc",
   "metadata": {},
   "outputs": [
    {
     "name": "stdout",
     "output_type": "stream",
     "text": [
      "enter P OR N = n\n",
      "{\n",
      "    \"U\": 25,\n",
      "    \"T\": null,\n",
      "    \"E\": [\n",
      "        \"Python\",\n",
      "        \"Is\",\n",
      "        \"Beautiful\"\n",
      "    ],\n",
      "    \"R\": [\n",
      "        1,\n",
      "        2,\n",
      "        100,\n",
      "        200\n",
      "    ]\n",
      "}\n"
     ]
    }
   ],
   "source": [
    "n = input(\"enter P OR N = \")\n",
    "if n == \"P\" or n == \"p\":\n",
    "#     print(json.dumps(result, indent = 4))\n",
    "    prev()\n",
    "elif n == \"N\" or n == \"n\":\n",
    "    nex()"
   ]
  },
  {
   "cell_type": "code",
   "execution_count": 2,
   "id": "03dae41f",
   "metadata": {},
   "outputs": [],
   "source": [
    "# import json"
   ]
  },
  {
   "cell_type": "code",
   "execution_count": null,
   "id": "d6a127dc",
   "metadata": {},
   "outputs": [],
   "source": []
  },
  {
   "cell_type": "code",
   "execution_count": 25,
   "id": "998eb510",
   "metadata": {},
   "outputs": [
    {
     "name": "stdout",
     "output_type": "stream",
     "text": [
      "{'name': 'Tiger', 'age': '', 'DOB': '01/04/2002'}\n",
      "{'name': ' john', 'age': '', 'DOB': '01/04/2002'}\n",
      "{'name': ' snow', 'age': '', 'DOB': '01/04/2002'}\n",
      "{'name': ' eddie', 'age': '', 'DOB': '01/04/2002'}\n",
      "{'name': ' max', 'age': '', 'DOB': '01/04/2002'}\n"
     ]
    },
    {
     "ename": "NameError",
     "evalue": "name 'xrange' is not defined",
     "output_type": "error",
     "traceback": [
      "\u001b[0;31m---------------------------------------------------------------------------\u001b[0m",
      "\u001b[0;31mNameError\u001b[0m                                 Traceback (most recent call last)",
      "Input \u001b[0;32mIn [25]\u001b[0m, in \u001b[0;36m<cell line: 18>\u001b[0;34m()\u001b[0m\n\u001b[1;32m     15\u001b[0m         \u001b[38;5;28;01myield\u001b[39;00m item\n\u001b[1;32m     16\u001b[0m         item \u001b[38;5;241m=\u001b[39m \u001b[38;5;28mlist\u001b[39m(itertools\u001b[38;5;241m.\u001b[39mislice(it, size))\n\u001b[0;32m---> 18\u001b[0m pprint\u001b[38;5;241m.\u001b[39mpprint(\u001b[38;5;28mlist\u001b[39m(split_seq(\u001b[43mxrange\u001b[49m(\u001b[38;5;241m25\u001b[39m), \u001b[38;5;241m5\u001b[39m)))\n",
      "\u001b[0;31mNameError\u001b[0m: name 'xrange' is not defined"
     ]
    }
   ],
   "source": [
    "import json\n",
    "import pprint\n",
    "f = open('data.json')\n",
    "data = json.loads(f.read())\n",
    "\n",
    "\n",
    "\n",
    "for i in data[\"data\"][0:5]:\n",
    "    print(i)\n",
    "\n",
    "    \n",
    "# n = input(\"enter N OR P = \")\n",
    "# c=2\n",
    "# if n == \"n\":\n",
    "#     print(c)\n",
    "\n",
    "\n"
   ]
  },
  {
   "cell_type": "code",
   "execution_count": null,
   "id": "e1c73e91",
   "metadata": {},
   "outputs": [],
   "source": []
  },
  {
   "cell_type": "code",
   "execution_count": null,
   "id": "fbbead50",
   "metadata": {},
   "outputs": [],
   "source": []
  },
  {
   "cell_type": "code",
   "execution_count": 12,
   "id": "efa2e33e",
   "metadata": {},
   "outputs": [],
   "source": [
    "from datetime import datetime, date\n",
    "\n",
    "# born='26/01/2000'\n",
    "def age(born):\n",
    "    born = datetime.strptime(born, \"%d/%m/%Y\").date()\n",
    "    today = date.today()\n",
    "    a = today.year - born.year - ((today.month, today.day) < (born.month,born.day))\n",
    "    return a"
   ]
  },
  {
   "cell_type": "code",
   "execution_count": 13,
   "id": "f6ff028f",
   "metadata": {},
   "outputs": [
    {
     "data": {
      "text/plain": [
       "22"
      ]
     },
     "execution_count": 13,
     "metadata": {},
     "output_type": "execute_result"
    }
   ],
   "source": [
    "age(\"26/01/2000\")"
   ]
  },
  {
   "cell_type": "code",
   "execution_count": null,
   "id": "c63ae722",
   "metadata": {},
   "outputs": [],
   "source": []
  },
  {
   "cell_type": "code",
   "execution_count": 51,
   "id": "d8df1bbc",
   "metadata": {},
   "outputs": [],
   "source": [
    "mylist = [1, 2, 3, 4, 5, 6, 7, 8, 9] "
   ]
  },
  {
   "cell_type": "code",
   "execution_count": 52,
   "id": "e2ef28b4",
   "metadata": {},
   "outputs": [
    {
     "data": {
      "text/plain": [
       "[1, 2, 3, 4, 5, 6, 7, 8, 9]"
      ]
     },
     "execution_count": 52,
     "metadata": {},
     "output_type": "execute_result"
    }
   ],
   "source": [
    "mylist"
   ]
  },
  {
   "cell_type": "code",
   "execution_count": 48,
   "id": "1f0d80e3",
   "metadata": {},
   "outputs": [],
   "source": [
    "li = [ mylist[i:i+4]for i in range(0, len(mylist),4)]"
   ]
  },
  {
   "cell_type": "code",
   "execution_count": 59,
   "id": "c9341e31",
   "metadata": {},
   "outputs": [
    {
     "data": {
      "text/plain": [
       "'1, 2, 3'"
      ]
     },
     "execution_count": 59,
     "metadata": {},
     "output_type": "execute_result"
    }
   ],
   "source": [
    "\", \".join([str(i + 1) for i in range(len(li))])"
   ]
  },
  {
   "cell_type": "code",
   "execution_count": null,
   "id": "a74c5c5f",
   "metadata": {},
   "outputs": [],
   "source": []
  },
  {
   "cell_type": "code",
   "execution_count": null,
   "id": "1ade232c",
   "metadata": {},
   "outputs": [],
   "source": []
  },
  {
   "cell_type": "code",
   "execution_count": 13,
   "id": "f5d45913",
   "metadata": {},
   "outputs": [],
   "source": []
  },
  {
   "cell_type": "code",
   "execution_count": 17,
   "id": "9f7e9da1",
   "metadata": {},
   "outputs": [],
   "source": []
  },
  {
   "cell_type": "code",
   "execution_count": 3,
   "id": "af042515",
   "metadata": {},
   "outputs": [
    {
     "name": "stdout",
     "output_type": "stream",
     "text": [
      "valid email\n"
     ]
    }
   ],
   "source": [
    "import re\n",
    "mail = \"kenil.infynno@gmail.com\"\n",
    "x = re.match(\"[a-z0-9.]+@[a-z0-9]+.[a-z]{2,}\",mail)\n",
    "if x:\n",
    "    print(\"valid email\")\n",
    "else:\n",
    "    print(\"invalid email\")"
   ]
  },
  {
   "cell_type": "code",
   "execution_count": 4,
   "id": "c1e571e7",
   "metadata": {},
   "outputs": [
    {
     "name": "stdout",
     "output_type": "stream",
     "text": [
      "valid\n"
     ]
    }
   ],
   "source": [
    "pn = \"+91 87432 83425\"\n",
    "x = re.match(\"[+0-9 ]{15}\",pn)\n",
    "if x:\n",
    "    print(\"valid\")\n",
    "else:\n",
    "    print(\"invalid\")"
   ]
  },
  {
   "cell_type": "code",
   "execution_count": 12,
   "id": "ff12c883",
   "metadata": {},
   "outputs": [
    {
     "name": "stdout",
     "output_type": "stream",
     "text": [
      "valid\n"
     ]
    }
   ],
   "source": [
    "z = \"347223\"\n",
    "x = re.match(\"[0-9]{6}\",z)\n",
    "if x:\n",
    "    print(\"valid\")\n",
    "else:\n",
    "    print(\"invalid\")\n"
   ]
  },
  {
   "cell_type": "code",
   "execution_count": null,
   "id": "5fb904be",
   "metadata": {},
   "outputs": [],
   "source": []
  }
 ],
 "metadata": {
  "kernelspec": {
   "display_name": "Python 3 (ipykernel)",
   "language": "python",
   "name": "python3"
  },
  "language_info": {
   "codemirror_mode": {
    "name": "ipython",
    "version": 3
   },
   "file_extension": ".py",
   "mimetype": "text/x-python",
   "name": "python",
   "nbconvert_exporter": "python",
   "pygments_lexer": "ipython3",
   "version": "3.8.10"
  }
 },
 "nbformat": 4,
 "nbformat_minor": 5
}
