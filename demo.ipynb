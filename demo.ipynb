{
 "cells": [
  {
   "cell_type": "markdown",
   "id": "19f66b62",
   "metadata": {},
   "source": [
    "Task 1. Replace JAVA with PYTHON in given string. Also find how many time Java before replace string and how many time python after replace string.\n",
    "\n",
    "String example :: \n",
    "Java is a widely used programming language. The rules and syntax of Java are based on the C and C++ languages. I love Java more than Python. Python is JAva but JAva is python.\n",
    "\n",
    "Output \n",
    "\n",
    "String :: PYTHON is a widely used programming language. The rules and syntax of PYTHON are based on the C and C++ languages. I love PYTHON more than Python. Python is PYTHON but PYTHON is python.\n",
    "Java before replace string :: X times\n",
    "Python after replace string :: X times\n",
    "\n",
    "\n",
    "Task 2. Check is given string list is Fibonacci or not?\n",
    "\n",
    "Task 3. Find the Prime number from given string list.\n",
    "\n",
    "Task 4. Check is given number is Armstrong?\n",
    "\n",
    "Task 5. Do calculation of sting and result it. \n",
    "\n",
    "String example ::\n",
    "5, +, 10, -, 6, 5, *, 2, +, 3, 2, /, 4 \n",
    "\n",
    "Answer is :: -17  [5 + 10 - 65 * 2 + 32 / 4]"
   ]
  },
  {
   "cell_type": "markdown",
   "id": "960001b8",
   "metadata": {},
   "source": [
    "# 1"
   ]
  },
  {
   "cell_type": "code",
   "execution_count": null,
   "id": "7e581bdf",
   "metadata": {},
   "outputs": [],
   "source": [
    "str1 = \"Java is a widely used programming language. The rules and syntax of Java are based on the C and C++ languages. I love Java more than Python. Python is JAva but JAva is python.\""
   ]
  },
  {
   "cell_type": "code",
   "execution_count": null,
   "id": "9cd2b35d",
   "metadata": {},
   "outputs": [],
   "source": [
    "counter = str.count('Java')\n",
    "counter1 = str.count('JAva')\n",
    "\n",
    "a = counter + counter2\n",
    "print (\"Java is =\",a)"
   ]
  },
  {
   "cell_type": "code",
   "execution_count": null,
   "id": "926241cd",
   "metadata": {},
   "outputs": [],
   "source": [
    "counter2 = str.count('Python')\n",
    "counter3 = str.count('python')\n",
    "ans = counter2 + counter3\n",
    "print(\"python is = \",ans)"
   ]
  },
  {
   "cell_type": "code",
   "execution_count": null,
   "id": "a6093713",
   "metadata": {},
   "outputs": [],
   "source": [
    "x = str.replace(\"Java\",\"Python\").replace(\"JAva\",\"Python\")\n",
    "x"
   ]
  },
  {
   "cell_type": "markdown",
   "id": "f28bdac2",
   "metadata": {},
   "source": [
    "# 2"
   ]
  },
  {
   "cell_type": "code",
   "execution_count": null,
   "id": "c7548176",
   "metadata": {},
   "outputs": [],
   "source": [
    "n=int(input(\"Enter the number: \"))\n",
    "c=0\n",
    "a=1\n",
    "b=1\n",
    "if n==0 or n==1:\n",
    "    print(\"fibonacci number\")\n",
    "else:\n",
    "    while c<n:\n",
    "        c=a+b\n",
    "        b=a\n",
    "        a=c\n",
    "    if c==n:\n",
    "        print(\"fibonacci number\")\n",
    "    else:\n",
    "        print(\"Not a fibonacci number\")"
   ]
  },
  {
   "cell_type": "markdown",
   "id": "0b96d4bf",
   "metadata": {},
   "source": [
    "# 3"
   ]
  },
  {
   "cell_type": "code",
   "execution_count": null,
   "id": "da6b8c28",
   "metadata": {},
   "outputs": [],
   "source": [
    "num = int(input(\"enter number\"))\n",
    "\n",
    "if num > 1:\n",
    "  \n",
    "    for i in range(2, int(num/2)+1):\n",
    "        if (num % i) == 0:\n",
    "            print(num, \"is not a prime number\")\n",
    "            break\n",
    "    else:\n",
    "        print(num, \"is a prime number\")\n",
    "  \n",
    "else:\n",
    "    print(num, \"is not a prime number\")"
   ]
  },
  {
   "cell_type": "markdown",
   "id": "7c49df50",
   "metadata": {},
   "source": [
    "# 4"
   ]
  },
  {
   "cell_type": "code",
   "execution_count": null,
   "id": "f04fab8a",
   "metadata": {},
   "outputs": [],
   "source": [
    "n = int(input(\"Enter a number: \"))\n",
    "s = 0\n",
    "t = n\n",
    "\n",
    "while t > 0:\n",
    "   digit = t % 10\n",
    "   s += digit ** 3\n",
    "   t //= 10\n",
    "if n == s:\n",
    "   print(n,\"is an Armstrong number\")\n",
    "else:\n",
    "   print(n,\"is not an Armstrong number\")\n"
   ]
  },
  {
   "cell_type": "markdown",
   "id": "84457456",
   "metadata": {},
   "source": [
    "# 5"
   ]
  },
  {
   "cell_type": "code",
   "execution_count": null,
   "id": "911850c6",
   "metadata": {},
   "outputs": [],
   "source": [
    "str= \"5, +, 10, -, 6, 5, *, 2, +, 3, 2, /, 4\"\n",
    "print(str.isdigit())"
   ]
  },
  {
   "cell_type": "code",
   "execution_count": null,
   "id": "0300babb",
   "metadata": {},
   "outputs": [],
   "source": [
    "x=str.replace(\", \",\"\")\n",
    "x\n",
    "a = eval(x)\n",
    "a"
   ]
  },
  {
   "cell_type": "code",
   "execution_count": null,
   "id": "d824c58a",
   "metadata": {},
   "outputs": [],
   "source": []
  },
  {
   "cell_type": "code",
   "execution_count": null,
   "id": "5a34a540",
   "metadata": {},
   "outputs": [],
   "source": [
    "# li = [str]\n",
    "# li\n",
    "# list1=list(map(list,str))\n",
    "# list1\n",
    "# for i in str:\n",
    "#     if i == \",\":\n",
    "#         print(i.replace(\",\",\"\"))\n",
    "# #         print(i)\n",
    "#     else:\n",
    "#         print(i)"
   ]
  },
  {
   "cell_type": "code",
   "execution_count": null,
   "id": "3df5998e",
   "metadata": {},
   "outputs": [],
   "source": [
    "# for i in range(len(a)):\n",
    "#     if a[i] - '0' ! = s:\n",
    "#         c +=1\n",
    "#     print(c)"
   ]
  },
  {
   "cell_type": "code",
   "execution_count": null,
   "id": "b12fed54",
   "metadata": {},
   "outputs": [],
   "source": [
    "# Python code to calculate number\n",
    "# of ways of selecting 'p' non\n",
    "# consecutive stations out of\n",
    "# 'n' stations\n",
    "\n",
    "def stopping_station( p, n):\n",
    "    num = 1\n",
    "    dem = 1\n",
    "    s = p\n",
    "    \n",
    "    # selecting 's' positions\n",
    "    # out of 'n-s+1'\n",
    "    while p != 1:\n",
    "#         print(p)\n",
    "        dem *= p\n",
    "#         print(dem)\n",
    "        p-=1\n",
    "#         print(p)\n",
    "\n",
    "    t = n - s + 1\n",
    "    while t != (n-2 * s + 1):\n",
    "        num *= t\n",
    "        t-=1\n",
    "    if (n - s + 1) >= s:\n",
    "        return int(num/dem)\n",
    "    else:\n",
    "        return -1\n",
    "num = stopping_station(4, 12)\n",
    "if num != -1:\n",
    "    print(num)\n",
    "else:\n",
    "    print(\"Not Possible\")\n",
    "\n"
   ]
  },
  {
   "cell_type": "code",
   "execution_count": null,
   "id": "88449506",
   "metadata": {},
   "outputs": [],
   "source": []
  },
  {
   "cell_type": "code",
   "execution_count": null,
   "id": "960ee0d7",
   "metadata": {},
   "outputs": [],
   "source": []
  },
  {
   "cell_type": "code",
   "execution_count": 58,
   "id": "b52249e2",
   "metadata": {},
   "outputs": [],
   "source": [
    "import math \n",
    "n = 12\n",
    "r = 4\n",
    "t = (n-r) + 1"
   ]
  },
  {
   "cell_type": "code",
   "execution_count": 59,
   "id": "8c93ef93",
   "metadata": {},
   "outputs": [],
   "source": [
    "fact_t = math.factorial(t)"
   ]
  },
  {
   "cell_type": "code",
   "execution_count": 60,
   "id": "1fa8c335",
   "metadata": {},
   "outputs": [],
   "source": [
    "fact_r = math.factorial(r)"
   ]
  },
  {
   "cell_type": "code",
   "execution_count": 61,
   "id": "ff4ecd11",
   "metadata": {},
   "outputs": [],
   "source": [
    "fact_o = math.factorial(t-r)"
   ]
  },
  {
   "cell_type": "code",
   "execution_count": 62,
   "id": "056196cb",
   "metadata": {},
   "outputs": [
    {
     "data": {
      "text/plain": [
       "126"
      ]
     },
     "execution_count": 62,
     "metadata": {},
     "output_type": "execute_result"
    }
   ],
   "source": [
    "fact_t//(fact_r*fact_o)"
   ]
  },
  {
   "cell_type": "code",
   "execution_count": null,
   "id": "6c107406",
   "metadata": {},
   "outputs": [],
   "source": []
  },
  {
   "cell_type": "code",
   "execution_count": null,
   "id": "1471fca8",
   "metadata": {},
   "outputs": [],
   "source": []
  },
  {
   "cell_type": "code",
   "execution_count": null,
   "id": "53aec69b",
   "metadata": {},
   "outputs": [],
   "source": []
  },
  {
   "cell_type": "code",
   "execution_count": null,
   "id": "51cf88cc",
   "metadata": {},
   "outputs": [],
   "source": []
  },
  {
   "cell_type": "code",
   "execution_count": 1,
   "id": "eeedd1b4",
   "metadata": {},
   "outputs": [
    {
     "name": "stdout",
     "output_type": "stream",
     "text": [
      "126\n"
     ]
    }
   ],
   "source": [
    "station = 12\n",
    "stop = 4\n",
    "temp = 1\n",
    "num = 1\n",
    "for i in range(stop):\n",
    "    i += 1\n",
    "    temp *= i\n",
    "t = station - stop + 1\n",
    "while t != (station - 2 * stop + 1):\n",
    "    num *= t\n",
    "    t -= 1\n",
    "print(int(num / temp))"
   ]
  },
  {
   "cell_type": "code",
   "execution_count": null,
   "id": "08820dc8",
   "metadata": {},
   "outputs": [],
   "source": []
  },
  {
   "cell_type": "code",
   "execution_count": null,
   "id": "1e420322",
   "metadata": {},
   "outputs": [],
   "source": []
  },
  {
   "cell_type": "code",
   "execution_count": null,
   "id": "a07da19c",
   "metadata": {},
   "outputs": [],
   "source": [
    "a//e"
   ]
  },
  {
   "cell_type": "code",
   "execution_count": 1,
   "id": "2a8500cc",
   "metadata": {},
   "outputs": [],
   "source": [
    "import math\n",
    "n = 12\n",
    "r = 4"
   ]
  }
 ],
 "metadata": {
  "kernelspec": {
   "display_name": "Python 3 (ipykernel)",
   "language": "python",
   "name": "python3"
  },
  "language_info": {
   "codemirror_mode": {
    "name": "ipython",
    "version": 3
   },
   "file_extension": ".py",
   "mimetype": "text/x-python",
   "name": "python",
   "nbconvert_exporter": "python",
   "pygments_lexer": "ipython3",
   "version": "3.8.10"
  }
 },
 "nbformat": 4,
 "nbformat_minor": 5
}
