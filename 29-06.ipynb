{
 "cells": [
  {
   "cell_type": "code",
   "execution_count": null,
   "id": "aae6386b",
   "metadata": {},
   "outputs": [],
   "source": [
    "n = 12\n",
    "r = 4\n",
    "t=1\n",
    "no=1"
   ]
  },
  {
   "cell_type": "code",
   "execution_count": null,
   "id": "29e82c56",
   "metadata": {},
   "outputs": [],
   "source": [
    "# for i in range(r):\n",
    "#     i+=1\n",
    "#     t *=1\n",
    "# x = n-r + 1\n",
    "# while t != (n-2*r+1):\n",
    "#     no *= t\n",
    "#     x -=1 \n",
    "# print(int(no//x))\n"
   ]
  },
  {
   "cell_type": "code",
   "execution_count": 10,
   "id": "c6b28f78",
   "metadata": {},
   "outputs": [],
   "source": [
    "import math \n",
    "n = 12\n",
    "r = 4\n",
    "t = (n-r) + 1\n",
    "fact_t = math.factorial(t)\n",
    "fact_r = math.factorial(r)\n",
    "fact_o = math.factorial(t-r)"
   ]
  },
  {
   "cell_type": "code",
   "execution_count": 11,
   "id": "f2336a8a",
   "metadata": {},
   "outputs": [
    {
     "data": {
      "text/plain": [
       "126"
      ]
     },
     "execution_count": 11,
     "metadata": {},
     "output_type": "execute_result"
    }
   ],
   "source": [
    "fact_t//(fact_r*fact_o)"
   ]
  },
  {
   "cell_type": "code",
   "execution_count": null,
   "id": "84a300c0",
   "metadata": {},
   "outputs": [],
   "source": [
    "board = [' ',' ',' ',' ',' ',' ',' ',' ',' ',' ']\n",
    "Game = 0\n",
    "Running = 0\n",
    "player=1\n",
    "Win=1\n",
    "Draw = 0\n",
    "\n",
    "def DrawBoard():    \n",
    "    print(\" %c | %c | %c \" % (board[1],board[2],board[3]))\n",
    "    print(\"___|___|___\")\n",
    "    print(\" %c | %c | %c \" % (board[4],board[5],board[6]))\n",
    "    print(\"___|___|___\")\n",
    "    print(\" %c | %c | %c \" % (board[7],board[8],board[9]))\n",
    "    print(\"   |   |   \")\n",
    "\n",
    "def CheckPosition(x):\n",
    "    if(board[x] == ' '):\n",
    "        return True\n",
    "    else:\n",
    "        return False\n",
    "\n",
    "def CheckWin():\n",
    "    global Game\n",
    "    if(board[1] == board[2] and board[2] == board[3] and board[1] != ' '):\n",
    "        Game = Win\n",
    "    elif(board[4] == board[5] and board[5] == board[6] and board[4] != ' '):\n",
    "        Game = Win\n",
    "    elif(board[7] == board[8] and board[8] == board[9] and board[7] != ' '):\n",
    "        Game = Win\n",
    "    elif(board[1] == board[4] and board[4] == board[7] and board[1] != ' '):\n",
    "        Game = Win\n",
    "    elif(board[2] == board[5] and board[5] == board[8] and board[2] != ' '):\n",
    "        Game = Win\n",
    "    elif(board[3] == board[6] and board[6] == board[9] and board[3] != ' '):\n",
    "        Game=Win\n",
    "    elif(board[1] == board[5] and board[5] == board[9] and board[5] != ' '):\n",
    "        Game = Win\n",
    "    elif(board[3] == board[5] and board[5] == board[7] and board[5] != ' '):\n",
    "        Game=Win\n",
    "    elif(board[1]!=' ' and board[2]!=' ' and board[3]!=' ' and board[4]!=' ' and board[5]!=' ' and board[6]!=' ' and board[7]!=' ' and board[8]!=' ' and board[9]!=' '):\n",
    "        Game=Draw\n",
    "    else:\n",
    "        Game=Running\n",
    "    \n",
    "while(Game==0):\n",
    "    DrawBoard()\n",
    "    if(player % 2 != 0):\n",
    "        print(\"Player 1's chance\")\n",
    "        Mark = 'X'\n",
    "    else:\n",
    "        print(\"Player 2's chance\")\n",
    "        Mark = 'O'\n",
    "    choice = int(input(\"Enter the position between [1-9] where you want to mark : \"))\n",
    "    if(CheckPosition(choice)):\n",
    "        board[choice] = Mark\n",
    "        player+=1\n",
    "        CheckWin()\n",
    "    \n",
    "DrawBoard()\n",
    "if(Game==Draw):\n",
    "    print(\"Game Draw\")\n",
    "elif(Game==Win):\n",
    "    player-=1\n",
    "    if(player%2!=0):\n",
    "        print(\"Player 1 Won\")\n",
    "    else:\n",
    "        print(\"Player 2 Won\")\n"
   ]
  },
  {
   "cell_type": "code",
   "execution_count": 8,
   "id": "a95620f8",
   "metadata": {},
   "outputs": [],
   "source": []
  },
  {
   "cell_type": "code",
   "execution_count": null,
   "id": "551f0f6f",
   "metadata": {},
   "outputs": [],
   "source": []
  }
 ],
 "metadata": {
  "kernelspec": {
   "display_name": "Python 3 (ipykernel)",
   "language": "python",
   "name": "python3"
  },
  "language_info": {
   "codemirror_mode": {
    "name": "ipython",
    "version": 3
   },
   "file_extension": ".py",
   "mimetype": "text/x-python",
   "name": "python",
   "nbconvert_exporter": "python",
   "pygments_lexer": "ipython3",
   "version": "3.8.10"
  }
 },
 "nbformat": 4,
 "nbformat_minor": 5
}
