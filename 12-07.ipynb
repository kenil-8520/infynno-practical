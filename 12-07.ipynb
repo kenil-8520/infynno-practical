{
 "cells": [
  {
   "cell_type": "code",
   "execution_count": 6,
   "id": "5b59d9d7",
   "metadata": {},
   "outputs": [
    {
     "name": "stdout",
     "output_type": "stream",
     "text": [
      "invalid\n"
     ]
    }
   ],
   "source": [
    "import re\n",
    "string = \"222.48.199.16\"\n",
    "check = re.match('[0-9]{3}.[0-9]{2}.[0-9]{3}.[0-9]{3}',string)\n",
    "if check:\n",
    "    print(\"valid\")\n",
    "else:\n",
    "    print(\"invalid\")"
   ]
  },
  {
   "cell_type": "code",
   "execution_count": 96,
   "id": "ae66029f",
   "metadata": {},
   "outputs": [
    {
     "name": "stdout",
     "output_type": "stream",
     "text": [
      "IP\n"
     ]
    }
   ],
   "source": [
    "import re\n",
    "string = \"1934.168.12.2\"\n",
    "check = re.match('([0-5]|[0-9][0-9]).[0-255]|[0-9]|[0-9].[0-255]|[0-9]|[0-9].[0-255]|[0-9]|[0-9]',string)\n",
    "if check:\n",
    "    print(\"Valid IP\")\n",
    "else:\n",
    "    print(\"invalid IP\")"
   ]
  },
  {
   "cell_type": "code",
   "execution_count": 162,
   "id": "e95ae048",
   "metadata": {},
   "outputs": [
    {
     "name": "stdout",
     "output_type": "stream",
     "text": [
      "IP\n"
     ]
    }
   ],
   "source": [
    "import re\n",
    "string = \"223.11.112.257\"\n",
    "check = re.match('[0-255]{0,3}.[0-255]{0,3}.[0-255]{0,3}.[0-255]{0,3}',string)\n",
    "if check:\n",
    "    print(\"IP\")\n",
    "else:\n",
    "    print(\"Invalid IP\")"
   ]
  },
  {
   "cell_type": "code",
   "execution_count": null,
   "id": "5711a98e",
   "metadata": {},
   "outputs": [],
   "source": []
  },
  {
   "cell_type": "code",
   "execution_count": 233,
   "id": "d8715467",
   "metadata": {},
   "outputs": [
    {
     "name": "stdout",
     "output_type": "stream",
     "text": [
      "Invalid IP\n"
     ]
    }
   ],
   "source": [
    "import re\n",
    "string = \"167.255.167.257\"\n",
    "check = re.match('(([0-2][0-5][0-5]|2[0-4][0-9]|[01]?[0-9][0-9]?)\\.){3}([0-2][0-5][0-5]|2[0-4][0-9]|[01]?[0-9][0-9]?)$',string)\n",
    "if check:\n",
    "    print(\"Valid IP\")\n",
    "else:\n",
    "    print(\"Invalid IP\")"
   ]
  },
  {
   "cell_type": "code",
   "execution_count": 245,
   "id": "99bbfeda",
   "metadata": {},
   "outputs": [],
   "source": [
    "import re\n",
    "string = \"https://www.something.com/news/2016/09/02/this-is-latest-news\"\n",
    "check = re.findall(\"[0-9]+\",string)"
   ]
  },
  {
   "cell_type": "code",
   "execution_count": 246,
   "id": "ac281352",
   "metadata": {},
   "outputs": [
    {
     "data": {
      "text/plain": [
       "['2016', '09', '02']"
      ]
     },
     "execution_count": 246,
     "metadata": {},
     "output_type": "execute_result"
    }
   ],
   "source": [
    "check"
   ]
  },
  {
   "cell_type": "code",
   "execution_count": 247,
   "id": "6ce6cd75",
   "metadata": {},
   "outputs": [
    {
     "name": "stdout",
     "output_type": "stream",
     "text": [
      "02-09-2016\n"
     ]
    }
   ],
   "source": [
    "print(\"-\".join(check[::-1]))"
   ]
  },
  {
   "cell_type": "code",
   "execution_count": null,
   "id": "dad835f1",
   "metadata": {},
   "outputs": [],
   "source": []
  }
 ],
 "metadata": {
  "kernelspec": {
   "display_name": "Python 3 (ipykernel)",
   "language": "python",
   "name": "python3"
  },
  "language_info": {
   "codemirror_mode": {
    "name": "ipython",
    "version": 3
   },
   "file_extension": ".py",
   "mimetype": "text/x-python",
   "name": "python",
   "nbconvert_exporter": "python",
   "pygments_lexer": "ipython3",
   "version": "3.8.10"
  }
 },
 "nbformat": 4,
 "nbformat_minor": 5
}
