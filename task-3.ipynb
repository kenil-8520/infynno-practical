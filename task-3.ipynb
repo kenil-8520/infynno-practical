{
 "cells": [
  {
   "cell_type": "markdown",
   "id": "c0b618c6",
   "metadata": {},
   "source": [
    "Task - Pyhton\n",
    "There are x number of girls and they rolled a dice in turns one after another.\n",
    "\n",
    "If the number on the dice is , then the dice will be rolled again until she get a number other than .\n",
    "\n",
    "Since you know the sequence of numbers which the dice shows when rolled each time, you have to find what is the total number of girls or if the sequence is invalid.\n",
    "\n",
    "Input format\n",
    "A single line that contains a string denoting the sequence of numbers the dice rolls on written as string.\n",
    "\n",
    "Output format\n",
    "If the sequence is valid print the number of girls  \n",
    "If the sequence is invalid print -1\n",
    " \n",
    "Sample Input\n",
    "3662123\n",
    "\n",
    "Sample Output\n",
    "5"
   ]
  },
  {
   "cell_type": "code",
   "execution_count": 1,
   "id": "f33b6e77",
   "metadata": {},
   "outputs": [
    {
     "name": "stdout",
     "output_type": "stream",
     "text": [
      "5\n"
     ]
    }
   ],
   "source": [
    "a = '3662123'\n",
    "s = 6\n",
    "c=0\n",
    "\n",
    "\n",
    "\n",
    "for i in range(len(a)):\n",
    "    \n",
    "    if int(a[i]) <= s:\n",
    "        if int(a[i]) != s:\n",
    "            c+=1\n",
    "    else:\n",
    "        print(\"-1\")\n",
    "print(c)\n",
    "        "
   ]
  },
  {
   "cell_type": "code",
   "execution_count": 2,
   "id": "0bdaa9c5",
   "metadata": {},
   "outputs": [
    {
     "name": "stdout",
     "output_type": "stream",
     "text": [
      "    0 \n",
      "   1 1 \n",
      "  2 2 2 \n",
      " 3 3 3 3 \n",
      "4 4 4 4 4 \n"
     ]
    }
   ],
   "source": [
    "n = 5\n",
    "k = n - 1\n",
    "for i in range(0, n):\n",
    "    for j in range(0, k):\n",
    "        print(end=\" \")\n",
    "    \n",
    "    k = k - 1\n",
    "    for j in range(0, i+1):\n",
    "        print(i,\"\", end=\"\")\n",
    "    print(\"\")"
   ]
  },
  {
   "cell_type": "code",
   "execution_count": 3,
   "id": "17206d93",
   "metadata": {},
   "outputs": [
    {
     "name": "stdout",
     "output_type": "stream",
     "text": [
      "        A \r\n",
      "       B B \r\n",
      "      C C C \r\n",
      "     D D D D \r\n",
      "    E E E E E \r\n"
     ]
    }
   ],
   "source": [
    "n=5\n",
    "k = 2 * n - 2\n",
    "x = 65\n",
    "for i in range(0, n):\n",
    "    ch = chr(x)\n",
    "    x += 1\n",
    "    for j in range(0, k):\n",
    "        print(end=\" \")\n",
    "    k = k - 1\n",
    "    for j in range(0, i + 1):\n",
    "        print(ch, end=\" \")\n",
    "    print(\"\\r\")"
   ]
  },
  {
   "cell_type": "code",
   "execution_count": 4,
   "id": "43561898",
   "metadata": {},
   "outputs": [
    {
     "name": "stdout",
     "output_type": "stream",
     "text": [
      "    1 \n",
      "   A\n",
      "A\n",
      "\n",
      "  2 3 4 \n",
      " A\n",
      "A\n",
      "A\n",
      "A\n",
      "\n",
      "5 6 7 8 9 \n"
     ]
    }
   ],
   "source": [
    "n = 5\n",
    "j = 1\n",
    "v = ['A','E','I','O',\"U\"]\n",
    "for col in range(n):\n",
    "    for space in range(n - col - 1):\n",
    "        print(' ', end='')\n",
    "    if col%2==0:\n",
    "        for row in range(0+1 * col + 1):\n",
    "             print(j, end=\" \")\n",
    "             j= j+1\n",
    "    if col%2!=0:\n",
    "        for row in range(0 + 1 * col + 1):\n",
    "            for i in v:\n",
    "                print(i)\n",
    "                break\n",
    "#             print(\"*\", end=\" \")\n",
    "    print()"
   ]
  },
  {
   "cell_type": "code",
   "execution_count": 5,
   "id": "2aa3c2d4",
   "metadata": {},
   "outputs": [
    {
     "name": "stdout",
     "output_type": "stream",
     "text": [
      "     1 \n",
      "    A E \n",
      "   3 5 7 \n",
      "  I O U A \n",
      " 9 11 13 15 17 \n",
      "E I O U A E \n"
     ]
    }
   ],
   "source": [
    "n = 6\n",
    "j = 1\n",
    "li = [\"A\", \"E\", \"I\", \"O\", \"U\"]\n",
    "m = len(li)\n",
    "count = 0\n",
    "\n",
    "for col in range(n):\n",
    "    for space in range(n - col - 1):\n",
    "        print(' ', end='')\n",
    "    if col % 2 == 0:\n",
    "        for row in range(1 * col + 1):\n",
    "            print(j, end=\" \")\n",
    "            j = j + 2\n",
    "    else:\n",
    "        for i in range(len(li) - count):\n",
    "            for k in range(1 * col + 1):\n",
    "                print(li[count], end=' ')\n",
    "                count = count + 1\n",
    "                if count == 5:\n",
    "                    count = 0\n",
    "            break\n",
    "    print()"
   ]
  },
  {
   "cell_type": "code",
   "execution_count": null,
   "id": "4a0b5216",
   "metadata": {
    "scrolled": true
   },
   "outputs": [],
   "source": []
  },
  {
   "cell_type": "code",
   "execution_count": null,
   "id": "8f943a28",
   "metadata": {},
   "outputs": [],
   "source": []
  },
  {
   "cell_type": "code",
   "execution_count": null,
   "id": "46f4eca7",
   "metadata": {},
   "outputs": [],
   "source": []
  },
  {
   "cell_type": "code",
   "execution_count": null,
   "id": "ca6c06da",
   "metadata": {},
   "outputs": [],
   "source": []
  },
  {
   "cell_type": "code",
   "execution_count": 6,
   "id": "616a4bf9",
   "metadata": {},
   "outputs": [
    {
     "name": "stdout",
     "output_type": "stream",
     "text": [
      "unbalanced\n",
      "unbalanced\n"
     ]
    },
    {
     "ename": "NameError",
     "evalue": "name 'string' is not defined",
     "output_type": "error",
     "traceback": [
      "\u001b[0;31m---------------------------------------------------------------------------\u001b[0m",
      "\u001b[0;31mNameError\u001b[0m                                 Traceback (most recent call last)",
      "Input \u001b[0;32mIn [6]\u001b[0m, in \u001b[0;36m<cell line: 22>\u001b[0;34m()\u001b[0m\n\u001b[1;32m     17\u001b[0m \u001b[38;5;28;01melse\u001b[39;00m:\n\u001b[1;32m     18\u001b[0m     \u001b[38;5;28mprint\u001b[39m(\u001b[38;5;124m\"\u001b[39m\u001b[38;5;124munbalanced\u001b[39m\u001b[38;5;124m\"\u001b[39m)\n\u001b[0;32m---> 22\u001b[0m \u001b[38;5;28mprint\u001b[39m(\u001b[43mstring\u001b[49m)\n",
      "\u001b[0;31mNameError\u001b[0m: name 'string' is not defined"
     ]
    }
   ],
   "source": [
    "s = \"(-(2+3)/)[*(5-6])\"\n",
    "open_list = [\"[\",\"{\",\"(\"]\n",
    "close_list = [\"]\",\"}\",\")\"]\n",
    "stack = []\n",
    "for i in s:\n",
    "    if i in open_list:\n",
    "        stack.append(i)\n",
    "    elif i in close_list:\n",
    "        pos = close_list.index(i)\n",
    "        if((len(stack) > 0) and\n",
    "            (open_list[pos] == stack[len(stack)-1])):\n",
    "            stack.pop()\n",
    "        else:\n",
    "            print(\"unbalanced\")\n",
    "if len(stack) == 0:\n",
    "    print(\"balanced\")\n",
    "else:\n",
    "    print(\"unbalanced\")\n",
    "\n",
    "\n",
    "\n",
    "print(string)\n",
    "\n"
   ]
  },
  {
   "cell_type": "code",
   "execution_count": null,
   "id": "03fc8f19",
   "metadata": {},
   "outputs": [],
   "source": [
    "str = \"{1-(2+4)/}[4*{5-6]}\"\n",
    "c = 0\n",
    "\n",
    "for i in str:\n",
    "    if i == '(' or i =='{' or i == '[':\n",
    "        c+=1\n",
    "    elif i == ')' or i =='}' or i ==']':\n",
    "        c-=1\n",
    "    if c < 0:\n",
    "        print(\"invaild\")\n",
    "if c == 0:\n",
    "    print(\"valid\")"
   ]
  },
  {
   "cell_type": "code",
   "execution_count": null,
   "id": "1672e774",
   "metadata": {},
   "outputs": [],
   "source": []
  },
  {
   "cell_type": "code",
   "execution_count": null,
   "id": "5e8407d3",
   "metadata": {},
   "outputs": [],
   "source": [
    "x,y =12,15\n",
    "r=y if x&1==0 else x\n",
    "print(r)\n"
   ]
  },
  {
   "cell_type": "code",
   "execution_count": null,
   "id": "684e4849",
   "metadata": {},
   "outputs": [],
   "source": [
    "# Python3 code to Check for\n",
    "# balanced parentheses in an expression\n",
    "def check(expression):\n",
    "\t\n",
    "\topen_tup = list['({[']\n",
    "\tclose_tup = list[')}]']\n",
    "\tmap = dict(zip(open_tup, close_tup))\n",
    "\tqueue = []\n",
    "\n",
    "\tfor i in expression:\n",
    "\t\tif i in open_tup:\n",
    "\t\t\tqueue.append(map[i])\n",
    "\t\telif i in close_tup:\n",
    "\t\t\tif not queue or i != queue.pop():\n",
    "\t\t\t\treturn \"Unbalanced\"\n",
    "\tif not queue:\n",
    "\t\treturn \"Balanced\"\n",
    "\telse:\n",
    "\t\treturn \"Unbalanced\"\n",
    "\n",
    "# Driver code\n",
    "string = \"{[){(]}}\"\n",
    "print(string, \"-\", check(string))\n",
    "\n",
    "# string = \"((()\"\n",
    "# print(string,\"-\",check(string))\n"
   ]
  },
  {
   "cell_type": "code",
   "execution_count": null,
   "id": "639e6616",
   "metadata": {},
   "outputs": [],
   "source": [
    "def checkBalance(expr):  \n",
    "    stack = []  \n",
    "    for char in expr:  \n",
    "        if char in [\"(\", \"{\", \"[\"]:  \n",
    "            stack.append(char)  \n",
    "        else:  \n",
    "  \n",
    "            if not stack:  \n",
    "                return False  \n",
    "            curr_char = stack.pop()  \n",
    "            if curr_char == '(':  \n",
    "                if char != \")\":  \n",
    "                    return False  \n",
    "            if curr_char == '{':  \n",
    "                if char != \"}\":  \n",
    "                    return False  \n",
    "            if curr_char == '[':  \n",
    "                if char != \"]\":  \n",
    "                    return False  \n",
    "  \n",
    "    # Here we check empty stack  \n",
    "    if stack:  \n",
    "        return False  \n",
    "    return True  \n",
    "  \n",
    "  \n",
    "expr = \"(-(2+3)/){[*(5-6)]}\"  \n",
    "  \n",
    "if checkBalance(expr):  \n",
    "    print(\"The given string is balanced\")  \n",
    "else:  \n",
    "    print(\"The given string is not balanced\")  "
   ]
  },
  {
   "cell_type": "code",
   "execution_count": null,
   "id": "c5f57be0",
   "metadata": {},
   "outputs": [],
   "source": [
    "str = \"{1-(2+4)/}[4*{5-6}]\"\n",
    "l1 = ['(','{','[']\n",
    "l2 = [')','}',']']\n",
    "l3=[]\n",
    "for i in str:\n",
    "    if i in l1:\n",
    "        l3.append(i)\n",
    "    elif i in l2:\n",
    "        p = l2.index(i)\n",
    "        if len(l3)>0 and l1[p] == l3[-1]:\n",
    "            l3.pop()\n",
    "        else:\n",
    "            l3.append(i)\n",
    "if len(l3) == 0:\n",
    "    print(\"valid\")\n",
    "else:\n",
    "    print(\"invalid\")"
   ]
  },
  {
   "cell_type": "code",
   "execution_count": null,
   "id": "5244ee57",
   "metadata": {},
   "outputs": [],
   "source": []
  },
  {
   "cell_type": "code",
   "execution_count": null,
   "id": "59952367",
   "metadata": {},
   "outputs": [],
   "source": [
    "n = 6\n",
    "j = 1\n",
    "li = [\"A\", \"E\", \"I\", \"O\", \"U\"]\n",
    "m = len(li)\n",
    "count = 0\n",
    "\n",
    "for col in range(n):\n",
    "    for space in range(n - col - 1):\n",
    "        print(' ', end='')\n",
    "    if col % 2 == 0:\n",
    "        for row in range(1 * col + 1):\n",
    "            print(j, end=\" \")\n",
    "            j = j + 2\n",
    "    else:\n",
    "        for i in range(len(li) - count):\n",
    "            for k in range(1 * col + 1):\n",
    "                print(li[count], end=' ')\n",
    "                count = count + 1\n",
    "                if count == 5:\n",
    "                    count = 0\n",
    "            break\n",
    "    print()"
   ]
  },
  {
   "cell_type": "code",
   "execution_count": null,
   "id": "23d14333",
   "metadata": {},
   "outputs": [],
   "source": []
  },
  {
   "cell_type": "code",
   "execution_count": null,
   "id": "98362abc",
   "metadata": {},
   "outputs": [],
   "source": [
    "# Python3 program to print above pattern\n",
    "def display(n):\n",
    "\tfor i in range(1, n + 1):\n",
    "\t\tk = i\n",
    "\t\tfor j in range(1, i + 1):\n",
    "\t\t\tif k % 2 == 0:\n",
    "\t\t\t\t\n",
    "\t\t\t\t# Displaying the numbers\n",
    "\t\t\t\tprint(j, end = '')\n",
    "\t\t\telse:\n",
    "\t\t\t\t\n",
    "\t\t\t\t# Displaying the stars\n",
    "\t\t\t\tprint('', end = '')\n",
    "\t\t\tk -= 1\n",
    "\t\tprint()\n",
    "\n",
    "# Driver Code\n",
    "\n",
    "# Get n\n",
    "n = 5\n",
    "\n",
    "# Print the pattern\n",
    "display(n)\n",
    "\n",
    "# This code is contributed by SamyuktaSHegde\n"
   ]
  },
  {
   "cell_type": "code",
   "execution_count": null,
   "id": "cff0e3c7",
   "metadata": {},
   "outputs": [],
   "source": [
    "n = 6\n",
    "j = 1\n",
    "li = 0\n",
    "# m = len(li)\n",
    "# count = 0\n",
    "\n",
    "for col in range(n):\n",
    "    for space in range(n - col - 1):\n",
    "        print(' ', end='')\n",
    "    if col % 2 == 0:\n",
    "        for row in range(1 * col + 1):\n",
    "            print(j, end=\" \")\n",
    "            j = j + 2\n",
    "    else:\n",
    "        for i in range(n):\n",
    "            for k in range(1 * col + 1):\n",
    "                li+=2\n",
    "                print(li,end=' ')\n",
    "            break\n",
    "    print()"
   ]
  },
  {
   "cell_type": "code",
   "execution_count": null,
   "id": "3fe8b908",
   "metadata": {},
   "outputs": [],
   "source": [
    "import pandas as pd"
   ]
  },
  {
   "cell_type": "code",
   "execution_count": null,
   "id": "d0123fd7",
   "metadata": {},
   "outputs": [],
   "source": [
    "dmart = {\n",
    "    'product1': \n",
    "        {'Name': 'abc', \n",
    "          'Age': '21', \n",
    "          'gender': 'Male'},\n",
    "    'product2': \n",
    "            {'Name': 'xyz', \n",
    "            'Age': '22', \n",
    "            'gender': 'Female'}\n",
    "        }\n",
    "\n"
   ]
  },
  {
   "cell_type": "code",
   "execution_count": null,
   "id": "f3233a2b",
   "metadata": {
    "scrolled": true
   },
   "outputs": [],
   "source": [
    "pd.DataFrame.from_dict(dmart)"
   ]
  },
  {
   "cell_type": "code",
   "execution_count": null,
   "id": "eef766ea",
   "metadata": {},
   "outputs": [],
   "source": [
    "dmart.keys()"
   ]
  },
  {
   "cell_type": "code",
   "execution_count": null,
   "id": "d9df92d5",
   "metadata": {},
   "outputs": [],
   "source": [
    "dmart[\"product2\"][\"Age\"]"
   ]
  },
  {
   "cell_type": "code",
   "execution_count": null,
   "id": "695c951e",
   "metadata": {},
   "outputs": [],
   "source": [
    "for i in dmart:\n",
    "    print(i)"
   ]
  },
  {
   "cell_type": "code",
   "execution_count": null,
   "id": "4743bb14",
   "metadata": {},
   "outputs": [],
   "source": [
    "for i in dmart:\n",
    "    print(dmart[i])"
   ]
  },
  {
   "cell_type": "code",
   "execution_count": null,
   "id": "4c69ec7e",
   "metadata": {},
   "outputs": [],
   "source": [
    "spam = {'color': 'red', 'age': '42','planet of origin': 'mars'}\n",
    "\n",
    "for k,v in spam.items():\n",
    "    print(k,v)\n",
    "#      print(str(k)+': '  + str(v))"
   ]
  },
  {
   "cell_type": "code",
   "execution_count": null,
   "id": "35ac749b",
   "metadata": {
    "scrolled": true
   },
   "outputs": [],
   "source": [
    "test_list = [{'key' : 1, 'key' : 2, 'key' : 3}, \n",
    "             {'key' : 2}, {'key' : 3, 'key' : 4}]\n",
    "  \n",
    "# print( (test_list))\n",
    "res = [ sub['key'] for sub in test_list ]\n",
    "print(res)\n",
    "# print(\"The values corresponding to key : \" + str(res))"
   ]
  },
  {
   "cell_type": "code",
   "execution_count": null,
   "id": "20f1433d",
   "metadata": {},
   "outputs": [],
   "source": [
    "# def get_key(val):\n",
    "#     i = d_mart.values()\n",
    "#     for j in i:\n",
    "#         k = j.values()\n",
    "#         for l in k:\n",
    "# #             print(l)\n",
    "#             for key, value in l.items():\n",
    "#                  if val == value:\n",
    "#                      return key\n",
    "\n",
    "\n",
    "# i = d_mart.values()\n",
    "# for j in i:\n",
    "#     k = j.values()\n",
    "#     for l in k:\n",
    "# #         print(l)\n",
    "#         d = l.values()\n",
    "# #         print(d)\n",
    "#         for m in d:\n",
    "#           for k , v in m.items():\n",
    "#               if k =='price' :\n",
    "#                   if v > 200:\n",
    "#                       price.__setitem__(k,v)\n",
    "#                       get_key(price)\n",
    "#                       print(price)"
   ]
  },
  {
   "cell_type": "code",
   "execution_count": null,
   "id": "8ecec6b7",
   "metadata": {},
   "outputs": [],
   "source": [
    "price ={}\n",
    "d_mart = {\n",
    "    \"Inventory\": {\n",
    "        \"Clothes\": {\n",
    "            \"shirt\": {\n",
    "                \"Quantity\": 50,\n",
    "                \"price\": 200\n",
    "            },\n",
    "            \"Jeans\": {\n",
    "                \"Quantity\": 30,\n",
    "                \"price\": 250\n",
    "            }\n",
    "\n",
    "        },\n",
    "        \"Groceries\": {\n",
    "            \"oil\": {\n",
    "                \"Quantity\": 45,\n",
    "                \"price\": 2000,\n",
    "            },\n",
    "            \"rice\": {\n",
    "                \"Quantity\": 205,\n",
    "                \"price\": 100,\n",
    "            },\n",
    "            \"wheat\": {\n",
    "                \"Quantity\": 69,\n",
    "                \"price\": 1000,\n",
    "            }\n",
    "        },\n",
    "\n",
    "    }\n",
    "}\n"
   ]
  },
  {
   "cell_type": "code",
   "execution_count": null,
   "id": "e6848681",
   "metadata": {
    "scrolled": true
   },
   "outputs": [],
   "source": [
    "for j in i:\n",
    "    k = j.values()\n",
    "    for l in k:\n",
    "        for k1 , v2 in l.items():\n",
    "             for k,v in v2.items():\n",
    "                if k=='price' and  v > 200:\n",
    "                    if v <= 250:\n",
    "                        dis_am = (10*v)/100;\n",
    "                        dis = v - dis_am\n",
    "                        print(k1, ':', k, dis, '10% discount')\n",
    "                    elif v >= 2000:\n",
    "                        print(k1, ':', k, v, 'By one get one free')\n",
    "                    elif v == 1000:\n",
    "                        print(k1, ':', k, v, '200gm free')\n",
    "                    else:\n",
    "                        print(k1, ':', k, v, 'not in discount')\n",
    "            "
   ]
  },
  {
   "cell_type": "code",
   "execution_count": null,
   "id": "7ccab768",
   "metadata": {
    "scrolled": false
   },
   "outputs": [],
   "source": [
    "print(k,v)"
   ]
  },
  {
   "cell_type": "code",
   "execution_count": null,
   "id": "f231357f",
   "metadata": {},
   "outputs": [],
   "source": []
  },
  {
   "cell_type": "code",
   "execution_count": null,
   "id": "fbf7ea0b",
   "metadata": {
    "scrolled": true
   },
   "outputs": [],
   "source": [
    "l.values()"
   ]
  },
  {
   "cell_type": "code",
   "execution_count": null,
   "id": "4e973695",
   "metadata": {},
   "outputs": [],
   "source": []
  },
  {
   "cell_type": "code",
   "execution_count": null,
   "id": "2442b9a7",
   "metadata": {},
   "outputs": [],
   "source": [
    "def demo(a):\n",
    "    x = lambda a:a+a\n",
    "    return a+a\n",
    "print(x(10))"
   ]
  },
  {
   "cell_type": "code",
   "execution_count": null,
   "id": "22aec785",
   "metadata": {},
   "outputs": [],
   "source": [
    "class cl:\n",
    "    def a(self,a):\n",
    "        print(a)\n",
    "ob = cl()\n",
    "ob.a(\"demo\")"
   ]
  },
  {
   "cell_type": "code",
   "execution_count": null,
   "id": "bac34cfd",
   "metadata": {},
   "outputs": [],
   "source": [
    "class demo:\n",
    "    def d(a):\n",
    "        x=0\n",
    "        x=lambda a:a+a\n",
    "        return a+a\n",
    "    print(x(10))\n",
    "    \n",
    "obj =demo()\n",
    "print(obj)"
   ]
  },
  {
   "cell_type": "code",
   "execution_count": null,
   "id": "514ac45e",
   "metadata": {},
   "outputs": [],
   "source": [
    "x = lambda y:x*x\n",
    "print(y(2))"
   ]
  },
  {
   "cell_type": "code",
   "execution_count": null,
   "id": "5481d63e",
   "metadata": {},
   "outputs": [],
   "source": [
    "print(type(x))"
   ]
  },
  {
   "cell_type": "code",
   "execution_count": null,
   "id": "eddda187",
   "metadata": {},
   "outputs": [],
   "source": []
  },
  {
   "cell_type": "code",
   "execution_count": null,
   "id": "6f853097",
   "metadata": {},
   "outputs": [],
   "source": [
    "class P:\n",
    "    def __init__(self,fname,lname):\n",
    "        self.firstname = fname\n",
    "        self.lastname = lname\n",
    "        \n",
    "    def Print(self):\n",
    "        print(self.firstname,self.lastname)\n",
    "        \n",
    "class s(P):\n",
    "    def __init__(self,fn,ln):\n",
    "        self.firstname = fn\n",
    "        self.lastname = ln\n",
    "        \n",
    "    def Print(self):\n",
    "        print(self.firstname,self.lastname)\n",
    "        \n",
    "class d(s):\n",
    "    pass\n",
    "\n",
    "ob = d('abc','xyz')\n",
    "ob.Print()"
   ]
  },
  {
   "cell_type": "code",
   "execution_count": null,
   "id": "30f2144b",
   "metadata": {},
   "outputs": [],
   "source": []
  },
  {
   "cell_type": "code",
   "execution_count": null,
   "id": "08bf7030",
   "metadata": {},
   "outputs": [],
   "source": [
    "d_mart={\n",
    "    'invo':{\n",
    "        'summer':{\n",
    "            'water-bottel':{\n",
    "                'water-bottel': 200,\n",
    "                'Quantity': 500,\n",
    "                'price': 50\n",
    "            },\n",
    "            'ice-crem':{\n",
    "                'havemore': 300,\n",
    "                'Quantity': 5000,\n",
    "                 'price':200\n",
    "            },\n",
    "        },\n",
    "        'wintter':{\n",
    "              'coat':{\n",
    "                 'Quantity':300,\n",
    "                 'price': 1000\n",
    "              },\n",
    "              'hiter':{\n",
    "                    'Quantity':500,\n",
    "                    'price':3000\n",
    "              },\n",
    "        },\n",
    "        'mounsoon':{\n",
    "             'rain-coat':{\n",
    "                 'Quantity': 3000,\n",
    "                  \"price\":200\n",
    "                 },\n",
    "            'umbrella':{\n",
    "                'Quantity': 5000,\n",
    "                \"price\":250\n",
    "                },\n",
    "        },\n",
    " },\n",
    "}\n",
    "\n",
    "while True:\n",
    "    choice = input(\"Enter choice(summer:s/mounsoon:m/winter:w): \")\n",
    "\n",
    "    if choice in ('s', 'm', 'w'):\n",
    "      j = d_mart.values()\n",
    "      for i in j:\n",
    "          if choice == 's':\n",
    "             p = i.get('summer')\n",
    "             for k,v in p.items():\n",
    "                 for k2,v2 in v.items():\n",
    "                    if k2 == 'Quantity' or  v2 > 600:\n",
    "                        print(k ,':',k2,'-',v2)\n",
    "\n",
    "          elif choice == 'm':\n",
    "              mou = i.get('mounsoon')\n",
    "              for k3, v3 in mou.items():\n",
    "                  for k4, v4 in v3.items():\n",
    "                      if k4 == 'Quantity' or v4 > 600:\n",
    "                          print(k3, ':', k4, '-', v4)\n",
    "          else:\n",
    "              win = i.get('wintter')\n",
    "              for k5, v5 in win.items():\n",
    "                  for k6, v6 in v5.items():\n",
    "                      if k6 == 'Quantity' or v6 > 600:\n",
    "                          print(k5, ':', k6, '-', v6)\n",
    "    break"
   ]
  },
  {
   "cell_type": "code",
   "execution_count": null,
   "id": "84f412e8",
   "metadata": {},
   "outputs": [],
   "source": []
  },
  {
   "cell_type": "code",
   "execution_count": null,
   "id": "6d2fd7c8",
   "metadata": {},
   "outputs": [],
   "source": []
  },
  {
   "cell_type": "code",
   "execution_count": 3,
   "id": "a935b620",
   "metadata": {},
   "outputs": [
    {
     "name": "stdout",
     "output_type": "stream",
     "text": [
      "abc xyz\n"
     ]
    }
   ],
   "source": [
    "class P:\n",
    "    def __init__(self,fname,lname):\n",
    "        self.firstname = fname\n",
    "        self.lastname = lname\n",
    "        \n",
    "    def Print(self):\n",
    "        print(self.firstname,self.lastname)\n",
    "        \n",
    "class s(P):\n",
    "    def __init__(self,fn,ln):\n",
    "        self.firstname = fn\n",
    "        self.lastname = ln\n",
    "        \n",
    "    def Print(self):\n",
    "        print(self.firstname,self.lastname)\n",
    "        \n",
    "class d(s):\n",
    "    pass\n",
    "\n",
    "ob = d('abc','xyz')\n",
    "ob.Print()"
   ]
  },
  {
   "cell_type": "code",
   "execution_count": null,
   "id": "67ffa5e0",
   "metadata": {},
   "outputs": [],
   "source": []
  },
  {
   "cell_type": "markdown",
   "id": "1495f4fa",
   "metadata": {},
   "source": [
    "### Between the two BRTS stations Iscon and Riverfront, there are 12 intermediate stations. \n",
    "### Determine the number of ways a BRTS can be arranged to stop at four of these intermediate stations so that no two stops are consecutive."
   ]
  },
  {
   "cell_type": "code",
   "execution_count": null,
   "id": "2d25e825",
   "metadata": {},
   "outputs": [],
   "source": []
  },
  {
   "cell_type": "code",
   "execution_count": null,
   "id": "7004965c",
   "metadata": {},
   "outputs": [],
   "source": []
  },
  {
   "cell_type": "code",
   "execution_count": 6,
   "id": "522cc67e",
   "metadata": {},
   "outputs": [],
   "source": [
    "import math\n",
    "fact_t = math.factorial(t)\n",
    "fact_r = math.factorial(r)\n",
    "fact_o = math.factorial(t-r)"
   ]
  },
  {
   "cell_type": "code",
   "execution_count": 7,
   "id": "26025c36",
   "metadata": {},
   "outputs": [
    {
     "data": {
      "text/plain": [
       "5"
      ]
     },
     "execution_count": 7,
     "metadata": {},
     "output_type": "execute_result"
    }
   ],
   "source": [
    "fact_t//(fact_r*fact_o)"
   ]
  },
  {
   "cell_type": "code",
   "execution_count": null,
   "id": "2abb9f14",
   "metadata": {},
   "outputs": [],
   "source": []
  },
  {
   "cell_type": "code",
   "execution_count": null,
   "id": "80afd2d9",
   "metadata": {},
   "outputs": [],
   "source": []
  },
  {
   "cell_type": "code",
   "execution_count": null,
   "id": "69c2430f",
   "metadata": {},
   "outputs": [],
   "source": []
  },
  {
   "cell_type": "code",
   "execution_count": null,
   "id": "a6df1f83",
   "metadata": {},
   "outputs": [],
   "source": [
    "l = 12\n",
    "non = 4"
   ]
  },
  {
   "cell_type": "code",
   "execution_count": 61,
   "id": "0dc10e5e",
   "metadata": {},
   "outputs": [],
   "source": [
    "\n",
    "from itertools import combinations\n",
    "\n",
    "comb = combinations([1, 2, 3,4,5,6,7,8,9], 4)\n",
    "cnt = list(comb)\n",
    "# for i in list(comb):\n",
    "# \tprint (i)\n"
   ]
  },
  {
   "cell_type": "code",
   "execution_count": 62,
   "id": "8ae1f21c",
   "metadata": {},
   "outputs": [
    {
     "data": {
      "text/plain": [
       "126"
      ]
     },
     "execution_count": 62,
     "metadata": {},
     "output_type": "execute_result"
    }
   ],
   "source": [
    "len(cnt)"
   ]
  },
  {
   "cell_type": "code",
   "execution_count": null,
   "id": "71aa1d93",
   "metadata": {},
   "outputs": [],
   "source": [
    "board = [' ',' ',' ',' ',' ',' ',' ',' ',' ',' ']\n",
    "Game = 0\n",
    "Running = Game\n",
    "player=1\n",
    "win=1"
   ]
  },
  {
   "cell_type": "code",
   "execution_count": null,
   "id": "a9584f72",
   "metadata": {},
   "outputs": [],
   "source": [
    "def DrawBoard():    \n",
    "    print(\" %c | %c | %c \" % (board[1],board[2],board[3]))\n",
    "    print(\"___|___|___\")\n",
    "    print(\" %c | %c | %c \" % (board[4],board[5],board[6]))\n",
    "    print(\"___|___|___\")\n",
    "    print(\" %c | %c | %c \" % (board[7],board[8],board[9]))\n",
    "    print(\"   |   |   \")\n",
    "\n",
    "def CheckPosition(x):\n",
    "    if(board[x] == ' '):\n",
    "        return True\n",
    "    else:\n",
    "        return False"
   ]
  },
  {
   "cell_type": "code",
   "execution_count": null,
   "id": "770bab33",
   "metadata": {},
   "outputs": [],
   "source": [
    "while(Game == Running):\n",
    "    DrawBoard()\n",
    "    if(player % 2 != 0):\n",
    "        print(\"Player 1's chance\")\n",
    "        Mark = 'X'\n",
    "    else:\n",
    "        print(\"Player 2's chance\")\n",
    "        Mark = 'O'\n",
    "    choice = int(input(\"Enter the position between [1-9] where you want to mark : \"))\n",
    "    if(CheckPosition(choice)):\n",
    "        board[choice] = Mark\n",
    "        player+=1\n",
    "        CheckWin()\n",
    "    \n",
    "    def CheckWin():\n",
    "        global Game\n",
    "        if(board[1] == board[2] and board[2] == board[3] and board[1] != ' '):\n",
    "            Game = Win\n",
    "        elif(board[4] == board[5] and board[5] == board[6] and board[4] != ' '):\n",
    "            Game = Win\n",
    "        elif(board[7] == board[8] and board[8] == board[9] and board[7] != ' '):\n",
    "            Game = Win\n",
    "        elif(board[1] == board[4] and board[4] == board[7] and board[1] != ' '):\n",
    "            Game = Win\n",
    "        elif(board[2] == board[5] and board[5] == board[8] and board[2] != ' '):\n",
    "            Game = Win\n",
    "        elif(board[3] == board[6] and board[6] == board[9] and board[3] != ' '):\n",
    "            Game=Win\n",
    "#         elif(board[1] == board[5] and board[5] == board[9] and board[5] != ' '):\n",
    "#             Game = Win\n",
    "#         elif(board[3] == board[5] and board[5] == board[7] and board[5] != ' '):\n",
    "#             Game=Win\n",
    "#         elif(board[1]!=' ' and board[2]!=' ' and board[3]!=' ' and board[4]!=' ' and board[5]!=' ' and board[6]!=' ' and board[7]!=' ' and board[8]!=' ' and board[9]!=' '):\n",
    "#             Game=Draw\n",
    "        else:\n",
    "            Game=Running\n",
    "    def CheckPosition(x):\n",
    "        if(board[x] == ' '):\n",
    "            return True\n",
    "        else:\n",
    "            return False"
   ]
  },
  {
   "cell_type": "code",
   "execution_count": null,
   "id": "3af3a24d",
   "metadata": {},
   "outputs": [],
   "source": []
  },
  {
   "cell_type": "code",
   "execution_count": null,
   "id": "cb3e9901",
   "metadata": {},
   "outputs": [],
   "source": []
  }
 ],
 "metadata": {
  "kernelspec": {
   "display_name": "Python 3 (ipykernel)",
   "language": "python",
   "name": "python3"
  },
  "language_info": {
   "codemirror_mode": {
    "name": "ipython",
    "version": 3
   },
   "file_extension": ".py",
   "mimetype": "text/x-python",
   "name": "python",
   "nbconvert_exporter": "python",
   "pygments_lexer": "ipython3",
   "version": "3.8.10"
  }
 },
 "nbformat": 4,
 "nbformat_minor": 5
}
